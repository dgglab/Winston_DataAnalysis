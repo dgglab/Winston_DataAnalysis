{
 "cells": [
  {
   "cell_type": "code",
   "execution_count": 1,
   "metadata": {},
   "outputs": [],
   "source": [
    "import sympy as sym\n",
    "from sympy.solvers.solveset import linsolve"
   ]
  },
  {
   "cell_type": "markdown",
   "metadata": {},
   "source": [
    "### Test of three terminals (V2 connected to ground via R, source at I3)"
   ]
  },
  {
   "cell_type": "code",
   "execution_count": 2,
   "metadata": {},
   "outputs": [
    {
     "data": {
      "text/plain": [
       "{V1: (G*I3*R + I3)/G, V2: I3*R, V3: (G*I3*R + I3)/G}"
      ]
     },
     "execution_count": 2,
     "metadata": {},
     "output_type": "execute_result"
    }
   ],
   "source": [
    "G, R = sym.symbols('G, R')\n",
    "V1, V2, V3 = sym.symbols('V1, V2, V3')\n",
    "I1, I2, I3 = sym.symbols('I1, I2, I3')\n",
    "T = sym.Matrix([[G, 0, -G], \n",
    "                [-G, G, 0],\n",
    "                [0, -G, G]])\n",
    "V = sym.Matrix([[V1], \n",
    "               [V2],\n",
    "               [V3]])\n",
    "\n",
    "I = sym.Matrix([[0], \n",
    "               [-V2/R],\n",
    "               [I3]])\n",
    "#linear_eq = sym.Eq(T * V, I)\n",
    "solution = sym.solve(T*V-I, V)\n",
    "solution"
   ]
  },
  {
   "cell_type": "code",
   "execution_count": 3,
   "metadata": {},
   "outputs": [
    {
     "data": {
      "text/latex": [
       "$\\displaystyle 970.0$"
      ],
      "text/plain": [
       "970.000000000000"
      ]
     },
     "execution_count": 3,
     "metadata": {},
     "output_type": "execute_result"
    }
   ],
   "source": [
    "#Effective line resistance to ground (subtracting out resistance quantum)\n",
    "V1m = solution[V1]\n",
    "V1m.evalf(subs={I3: 1, G: 2/25813, R: 970}) - 25813/2"
   ]
  },
  {
   "cell_type": "markdown",
   "metadata": {},
   "source": [
    "### 4 sets of 3 contacts, middle of each shorted to each other and grounded through R. Zero transmission between sets (other than through the shorted contacts). On one set, the non-shorted contacts are also grounded through R"
   ]
  },
  {
   "cell_type": "code",
   "execution_count": 4,
   "metadata": {},
   "outputs": [
    {
     "data": {
      "text/plain": [
       "{V1: (G**3*I3*R**3 + 5*G**2*I3*R**2 + 4*G*I3*R + I3)/(3*G**3*R**2 + 3*G**2*R + G),\n",
       " V2: (G**2*I3*R**3 + 2*G*I3*R**2 + I3*R)/(3*G**2*R**2 + 3*G*R + 1),\n",
       " V3: (G**3*I3*R**3 + 5*G**2*I3*R**2 + 4*G*I3*R + I3)/(3*G**3*R**2 + 3*G**2*R + G),\n",
       " V4: (G**2*I3*R**3 + 2*G*I3*R**2 + I3*R)/(3*G**2*R**2 + 3*G*R + 1),\n",
       " V5: (G**2*I3*R**3 + 2*G*I3*R**2 + I3*R)/(3*G**2*R**2 + 3*G*R + 1),\n",
       " V6: (G**2*I3*R**3 + 2*G*I3*R**2 + I3*R)/(3*G**2*R**2 + 3*G*R + 1),\n",
       " V7: (G**2*I3*R**3 + 2*G*I3*R**2 + I3*R)/(3*G**2*R**2 + 3*G*R + 1),\n",
       " V8: G**2*I3*R**3/(3*G**2*R**2 + 3*G*R + 1),\n",
       " V9: (G**2*I3*R**3 + G*I3*R**2)/(3*G**2*R**2 + 3*G*R + 1)}"
      ]
     },
     "execution_count": 4,
     "metadata": {},
     "output_type": "execute_result"
    }
   ],
   "source": [
    "# 2 is middle contact, in clockwise order 1-9, so 123, 425, 627, 829, 8 + 9 grounded\n",
    "G, R = sym.symbols('G, R')\n",
    "V1, V2, V3, V4, V5, V6, V7, V8, V9 = sym.symbols('V1, V2, V3, V4, V5, V6, V7, V8, V9')\n",
    "I1, I2, I3, I4, I5, I6, I7, I8, I9 = sym.symbols('I1, I2, I3, I4, I5, I6, I7, I8, I9')\n",
    "T = sym.Matrix([[G, 0, -G, 0, 0, 0, 0, 0, 0], \n",
    "                [-G, 4*G, 0, -G, 0, -G, 0, -G, 0],\n",
    "                [0, -G, G, 0, 0, 0, 0, 0, 0],\n",
    "                [0, 0, 0, G, -G, 0, 0, 0, 0],\n",
    "                [0, -G, 0, 0, G, 0, 0, 0, 0],\n",
    "                [0, 0, 0, 0, 0, G, -G, 0, 0],\n",
    "                [0, -G, 0, 0, 0, 0, G, 0, 0],\n",
    "                [0, 0, 0, 0, 0, 0, 0, G, -G],\n",
    "                [0, -G, 0, 0, 0, 0, 0, 0, G]])\n",
    "V = sym.Matrix([[V1], \n",
    "               [V2],\n",
    "               [V3],\n",
    "               [V4], \n",
    "               [V5],\n",
    "               [V6],\n",
    "               [V7], \n",
    "               [V8],\n",
    "               [V9]])\n",
    "\n",
    "# Other known constraints: each floating contact has 0 current, grounded contacts i current is -V_i/R, and current in = current out (I3 = -sum of ground currents)\n",
    "I = sym.Matrix([[0],\n",
    "              [-V2/R],\n",
    "              [I3],\n",
    "              [0],\n",
    "              [0],\n",
    "              [0],\n",
    "              [0],\n",
    "              [-V8/R],\n",
    "              [-V9/R]])\n",
    "solution = sym.solve(T*V-I, V)\n",
    "solution"
   ]
  },
  {
   "cell_type": "code",
   "execution_count": 5,
   "metadata": {},
   "outputs": [
    {
     "data": {
      "text/latex": [
       "$\\displaystyle 902.502982553511$"
      ],
      "text/plain": [
       "902.502982553511"
      ]
     },
     "execution_count": 5,
     "metadata": {},
     "output_type": "execute_result"
    }
   ],
   "source": [
    "#Effective line resistance to ground (subtracting out resistance quantum)\n",
    "V1m = solution[V1]\n",
    "V1m.evalf(subs={I3: 1, G: 2/25813, R: 970}) - 25813/2"
   ]
  },
  {
   "cell_type": "markdown",
   "metadata": {},
   "source": [
    "### Full 6 sets of 3 contacts. Zero transmission between sets (other than through the shorted contacts). For three sets, the non-shorted contacts are also grounded through R. "
   ]
  },
  {
   "cell_type": "code",
   "execution_count": 6,
   "metadata": {},
   "outputs": [
    {
     "data": {
      "text/plain": [
       "{V1: (G**3*I3*R**3 + 9*G**2*I3*R**2 + 6*G*I3*R + I3)/(7*G**3*R**2 + 5*G**2*R + G),\n",
       " V2: (G**2*I3*R**3 + 2*G*I3*R**2 + I3*R)/(7*G**2*R**2 + 5*G*R + 1),\n",
       " V3: (G**3*I3*R**3 + 9*G**2*I3*R**2 + 6*G*I3*R + I3)/(7*G**3*R**2 + 5*G**2*R + G),\n",
       " V4: (G**2*I3*R**3 + 2*G*I3*R**2 + I3*R)/(7*G**2*R**2 + 5*G*R + 1),\n",
       " V5: (G**2*I3*R**3 + 2*G*I3*R**2 + I3*R)/(7*G**2*R**2 + 5*G*R + 1),\n",
       " V6: (G**2*I3*R**3 + 2*G*I3*R**2 + I3*R)/(7*G**2*R**2 + 5*G*R + 1),\n",
       " V7: (G**2*I3*R**3 + 2*G*I3*R**2 + I3*R)/(7*G**2*R**2 + 5*G*R + 1),\n",
       " V8: G**2*I3*R**3/(7*G**2*R**2 + 5*G*R + 1),\n",
       " V9: (G**2*I3*R**3 + G*I3*R**2)/(7*G**2*R**2 + 5*G*R + 1),\n",
       " V10: G**2*I3*R**3/(7*G**2*R**2 + 5*G*R + 1),\n",
       " V11: (G**2*I3*R**3 + G*I3*R**2)/(7*G**2*R**2 + 5*G*R + 1),\n",
       " V12: G**2*I3*R**3/(7*G**2*R**2 + 5*G*R + 1),\n",
       " V13: (G**2*I3*R**3 + G*I3*R**2)/(7*G**2*R**2 + 5*G*R + 1)}"
      ]
     },
     "execution_count": 6,
     "metadata": {},
     "output_type": "execute_result"
    }
   ],
   "source": [
    "# 2 is middle contact, in clockwise order 1-9, so 123, 425, 627, 829, 8 + 9 grounded\n",
    "G, R = sym.symbols('G, R')\n",
    "V1, V2, V3, V4, V5, V6, V7, V8, V9, V10, V11, V12, V13 = sym.symbols('V1, V2, V3, V4, V5, V6, V7, V8, V9, V10, V11, V12, V13')\n",
    "I1, I2, I3, I4, I5, I6, I7, I8, I9, I10, I11, I12, I13 = sym.symbols('I1, I2, I3, I4, I5, I6, I7, I8, I9, I10, I11, I12, I13')\n",
    "T = sym.Matrix([[G, 0, -G, 0, 0, 0, 0, 0, 0], \n",
    "                [-G, 6*G, 0, -G, 0, -G, 0, -G, 0],\n",
    "                [0, -G, G, 0, 0, 0, 0, 0, 0],\n",
    "                [0, 0, 0, G, -G, 0, 0, 0, 0],\n",
    "                [0, -G, 0, 0, G, 0, 0, 0, 0],\n",
    "                [0, 0, 0, 0, 0, G, -G, 0, 0],\n",
    "                [0, -G, 0, 0, 0, 0, G, 0, 0],\n",
    "                [0, 0, 0, 0, 0, 0, 0, G, -G],\n",
    "                [0, -G, 0, 0, 0, 0, 0, 0, G]])\n",
    "#Using previous matrix and just inserting columns/rows to be easier\n",
    "T = T.col_insert(9, sym.Matrix([0, -G, 0, 0, 0, 0, 0, 0, 0] ))\n",
    "T = T.col_insert(10, sym.Matrix([0, 0, 0, 0, 0, 0, 0, 0, 0] ))\n",
    "T = T.col_insert(11, sym.Matrix([0, -G, 0, 0, 0, 0, 0, 0, 0] ))\n",
    "T = T.col_insert(12, sym.Matrix([0, 0, 0, 0, 0, 0, 0, 0, 0] ))\n",
    "T = T.row_insert(9, sym.Matrix([[0, 0, 0, 0, 0, 0, 0, 0, 0, G, -G, 0, 0]]))\n",
    "T = T.row_insert(10, sym.Matrix([[0, -G, 0, 0, 0, 0, 0, 0, 0, 0, G, 0, 0]]))\n",
    "T = T.row_insert(11, sym.Matrix([[0, 0, 0, 0, 0, 0, 0, 0, 0, 0, 0, G, -G]]))\n",
    "T = T.row_insert(12, sym.Matrix([[0, -G, 0, 0, 0, 0, 0, 0, 0, 0, 0, 0, G]]))\n",
    "V = sym.Matrix([[V1], \n",
    "               [V2],\n",
    "               [V3],\n",
    "               [V4], \n",
    "               [V5],\n",
    "               [V6],\n",
    "               [V7], \n",
    "               [V8],\n",
    "               [V9],\n",
    "               [V10],\n",
    "               [V11], \n",
    "               [V12],\n",
    "               [V13]])\n",
    "\n",
    "# Other known constraints: each floating contact has 0 current, grounded contacts i current is -V_i/R, and current in = current out (I3 = -sum of ground currents)\n",
    "I = sym.Matrix([[0],\n",
    "              [-V2/R],\n",
    "              [I3],\n",
    "              [0],\n",
    "              [0],\n",
    "              [0],\n",
    "              [0],\n",
    "              [-V8/R],\n",
    "              [-V9/R],\n",
    "              [-V10/R],\n",
    "              [-V11/R],\n",
    "              [-V12/R],\n",
    "              [-V13/R]])\n",
    "solution = sym.solve(T*V-I, V)\n",
    "solution"
   ]
  },
  {
   "cell_type": "code",
   "execution_count": 7,
   "metadata": {},
   "outputs": [
    {
     "data": {
      "text/latex": [
       "$\\displaystyle 792.246713948727$"
      ],
      "text/plain": [
       "792.246713948727"
      ]
     },
     "execution_count": 7,
     "metadata": {},
     "output_type": "execute_result"
    }
   ],
   "source": [
    "#Effective line resistance to ground (subtracting out resistance quantum)\n",
    "V1m = solution[V1]\n",
    "V1m.evalf(subs={I3: 1, G: 2/25813, R: 970}) - 25813/2"
   ]
  },
  {
   "cell_type": "markdown",
   "metadata": {},
   "source": [
    "### Two sets of 3 contacts, two middle islands"
   ]
  },
  {
   "cell_type": "code",
   "execution_count": 15,
   "metadata": {},
   "outputs": [
    {
     "data": {
      "text/plain": [
       "{V1: (G*I1*R*nu + I1)/(G*nu),\n",
       " V2: (G*I1*R*nu**2*t_C*t_L + G*I1*R*nu**2*t_C*t_R + G*I1*R*nu**2*t_L*t_R + I1*nu*t_C*t_L + I1*nu*t_C*t_R + I1*nu*t_L*t_R - I1*t_C*t_L*t_R)/(G*nu**2*t_C*t_L + G*nu**2*t_C*t_R + G*nu**2*t_L*t_R),\n",
       " V3: I1*R,\n",
       " V4: (G*I1*R*nu*t_C*t_L + G*I1*R*nu*t_C*t_R + G*I1*R*nu*t_L*t_R + I1*t_C*t_L + I1*t_L*t_R)/(G*nu*t_C*t_L + G*nu*t_C*t_R + G*nu*t_L*t_R),\n",
       " V5: (G*I1*R*nu*t_C*t_L + G*I1*R*nu*t_C*t_R + G*I1*R*nu*t_L*t_R + I1*t_C*t_L)/(G*nu*t_C*t_L + G*nu*t_C*t_R + G*nu*t_L*t_R),\n",
       " V6: (G*I1*R*nu**2*t_C*t_L + G*I1*R*nu**2*t_C*t_R + G*I1*R*nu**2*t_L*t_R + I1*t_C*t_L*t_R)/(G*nu**2*t_C*t_L + G*nu**2*t_C*t_R + G*nu**2*t_L*t_R),\n",
       " V7: I1*R}"
      ]
     },
     "execution_count": 15,
     "metadata": {},
     "output_type": "execute_result"
    }
   ],
   "source": [
    "# 3 is middle contact, 4 + 5 are middle islands\n",
    "G, R = sym.symbols('G, R')\n",
    "tL, tR, tC = sym.symbols('t_L, t_R, t_C')\n",
    "V1, V2, V3, V4, V5, V6, V7 = sym.symbols('V1, V2, V3, V4, V5, V6, V7')\n",
    "I1, I2, I3, I4, I5, I6, I7 = sym.symbols('I1, I2, I3, I4, I5, I6, I7')\n",
    "nu = 2\n",
    "nu = sym.symbols('nu')\n",
    "T = sym.Matrix([[nu*G, 0, -nu*G, 0, 0, 0, 0], \n",
    "                [-G*(nu-tL), nu*G, 0, -G*tL, 0, 0, 0],\n",
    "                [0, -nu*G, 2*nu*G, 0, 0, -nu*G, 0],\n",
    "                [-G*tL, 0, 0, G*(tL+tC), -G*(tC), 0, 0],\n",
    "                [0, 0, 0, -G*tC, G*(tR + tC), 0, -G*(tR)],\n",
    "                [0, 0, 0, 0, -G*tR, nu*G, -G*(nu-tR)],\n",
    "                [0, 0, -nu*G, 0, 0, 0, nu*G]])\n",
    "T=T\n",
    "V = sym.Matrix([[V1], \n",
    "               [V2],\n",
    "               [V3],\n",
    "               [V4],\n",
    "               [V5],\n",
    "               [V6],\n",
    "               [V7]])\n",
    "\n",
    "# Other known constraints: each floating contact has 0 current, grounded contacts i current is -V_i/R, and current in = current out (I3 = -sum of ground currents)\n",
    "I = sym.Matrix([[I1],\n",
    "              [0],\n",
    "              [-V3/R],\n",
    "              [0],\n",
    "              [0],\n",
    "              [0],\n",
    "              [0]])\n",
    "solution = sym.solve(T*V-I, V)\n",
    "solution"
   ]
  },
  {
   "cell_type": "markdown",
   "metadata": {},
   "source": [
    "#### Subtract 'ground' contact voltage from each measurement, and then normalize by source voltage"
   ]
  },
  {
   "cell_type": "code",
   "execution_count": 18,
   "metadata": {},
   "outputs": [
    {
     "data": {
      "text/latex": [
       "$\\displaystyle \\frac{t_{C} t_{L} t_{R}}{\\nu \\left(t_{C} t_{L} + t_{C} t_{R} + t_{L} t_{R}\\right)}$"
      ],
      "text/plain": [
       "t_C*t_L*t_R/(nu*(t_C*t_L + t_C*t_R + t_L*t_R))"
      ]
     },
     "execution_count": 18,
     "metadata": {},
     "output_type": "execute_result"
    }
   ],
   "source": [
    "sym.simplify((solution[V6]-solution[V3])/(solution[V1]-solution[V3]))"
   ]
  },
  {
   "cell_type": "code",
   "execution_count": 16,
   "metadata": {},
   "outputs": [
    {
     "data": {
      "text/latex": [
       "$\\displaystyle \\frac{\\nu t_{C} t_{L} + \\nu t_{C} t_{R} + \\nu t_{L} t_{R} - t_{C} t_{L} t_{R}}{\\nu \\left(t_{C} t_{L} + t_{C} t_{R} + t_{L} t_{R}\\right)}$"
      ],
      "text/plain": [
       "(nu*t_C*t_L + nu*t_C*t_R + nu*t_L*t_R - t_C*t_L*t_R)/(nu*(t_C*t_L + t_C*t_R + t_L*t_R))"
      ]
     },
     "execution_count": 16,
     "metadata": {},
     "output_type": "execute_result"
    }
   ],
   "source": [
    "sym.simplify((solution[V2]-solution[V3])/(solution[V1]-solution[V3])) #reflected voltage"
   ]
  },
  {
   "cell_type": "markdown",
   "metadata": {},
   "source": [
    "### Four sets of 3 contacts, two middle islands (ie full device configuration)"
   ]
  },
  {
   "cell_type": "code",
   "execution_count": 6,
   "metadata": {},
   "outputs": [
    {
     "data": {
      "text/plain": [
       "{V1: (G*I1*R*nu + I1)/(G*nu),\n",
       " V2: (G*I1*R*nu**2*t1*t2 + G*I1*R*nu**2*t1*t4 + G*I1*R*nu**2*t1*tC + G*I1*R*nu**2*t2*t3 + G*I1*R*nu**2*t2*tC + G*I1*R*nu**2*t3*t4 + G*I1*R*nu**2*t3*tC + G*I1*R*nu**2*t4*tC + I1*nu*t1*t2 + I1*nu*t1*t4 + I1*nu*t1*tC + I1*nu*t2*t3 + I1*nu*t2*tC + I1*nu*t3*t4 + I1*nu*t3*tC + I1*nu*t4*tC - I1*t1*t2*t3 - I1*t1*t2*tC - I1*t1*t3*t4 - I1*t1*t3*tC - I1*t1*t4*tC)/(G*nu**2*t1*t2 + G*nu**2*t1*t4 + G*nu**2*t1*tC + G*nu**2*t2*t3 + G*nu**2*t2*tC + G*nu**2*t3*t4 + G*nu**2*t3*tC + G*nu**2*t4*tC),\n",
       " V3: I1*R,\n",
       " V4: (G*I1*R*nu*t1*t2 + G*I1*R*nu*t1*t4 + G*I1*R*nu*t1*tC + G*I1*R*nu*t2*t3 + G*I1*R*nu*t2*tC + G*I1*R*nu*t3*t4 + G*I1*R*nu*t3*tC + G*I1*R*nu*t4*tC + I1*t1*t2 + I1*t1*t4 + I1*t1*tC)/(G*nu*t1*t2 + G*nu*t1*t4 + G*nu*t1*tC + G*nu*t2*t3 + G*nu*t2*tC + G*nu*t3*t4 + G*nu*t3*tC + G*nu*t4*tC),\n",
       " V5: (G*I1*R*nu*t1*t2 + G*I1*R*nu*t1*t4 + G*I1*R*nu*t1*tC + G*I1*R*nu*t2*t3 + G*I1*R*nu*t2*tC + G*I1*R*nu*t3*t4 + G*I1*R*nu*t3*tC + G*I1*R*nu*t4*tC + I1*t1*tC)/(G*nu*t1*t2 + G*nu*t1*t4 + G*nu*t1*tC + G*nu*t2*t3 + G*nu*t2*tC + G*nu*t3*t4 + G*nu*t3*tC + G*nu*t4*tC),\n",
       " V6: I1*R,\n",
       " V7: (G*I1*R*nu**2*t1*t2 + G*I1*R*nu**2*t1*t4 + G*I1*R*nu**2*t1*tC + G*I1*R*nu**2*t2*t3 + G*I1*R*nu**2*t2*tC + G*I1*R*nu**2*t3*t4 + G*I1*R*nu**2*t3*tC + G*I1*R*nu**2*t4*tC + I1*t1*t2*tC)/(G*nu**2*t1*t2 + G*nu**2*t1*t4 + G*nu**2*t1*tC + G*nu**2*t2*t3 + G*nu**2*t2*tC + G*nu**2*t3*t4 + G*nu**2*t3*tC + G*nu**2*t4*tC),\n",
       " V8: (G*I1*R*nu**2*t1*t2 + G*I1*R*nu**2*t1*t4 + G*I1*R*nu**2*t1*tC + G*I1*R*nu**2*t2*t3 + G*I1*R*nu**2*t2*tC + G*I1*R*nu**2*t3*t4 + G*I1*R*nu**2*t3*tC + G*I1*R*nu**2*t4*tC + I1*t1*t2*t3 + I1*t1*t3*t4 + I1*t1*t3*tC)/(G*nu**2*t1*t2 + G*nu**2*t1*t4 + G*nu**2*t1*tC + G*nu**2*t2*t3 + G*nu**2*t2*tC + G*nu**2*t3*t4 + G*nu**2*t3*tC + G*nu**2*t4*tC),\n",
       " V9: I1*R,\n",
       " V10: (G*I1*R*nu**2*t1*t2 + G*I1*R*nu**2*t1*t4 + G*I1*R*nu**2*t1*tC + G*I1*R*nu**2*t2*t3 + G*I1*R*nu**2*t2*tC + G*I1*R*nu**2*t3*t4 + G*I1*R*nu**2*t3*tC + G*I1*R*nu**2*t4*tC + I1*t1*t4*tC)/(G*nu**2*t1*t2 + G*nu**2*t1*t4 + G*nu**2*t1*tC + G*nu**2*t2*t3 + G*nu**2*t2*tC + G*nu**2*t3*t4 + G*nu**2*t3*tC + G*nu**2*t4*tC),\n",
       " V11: I1*R}"
      ]
     },
     "execution_count": 6,
     "metadata": {},
     "output_type": "execute_result"
    }
   ],
   "source": [
    "# 3 is middle contact, 4 + 5 are middle islands. 1-2 are with t1, 6-7 with t2, 8-9 with t3, 10-11 with t4. t1, t3 are on left island \n",
    "G, R = sym.symbols('G, R')\n",
    "t1, t2, t3, t4, tC = sym.symbols('t1, t2, t3, t4, tC')\n",
    "V1, V2, V3, V4, V5, V6, V7, V8, V9, V10, V11 = sym.symbols('V1, V2, V3, V4, V5, V6, V7, V8, V9, V10, V11')\n",
    "I1, I2, I3, I4, I5, I6, I7, I8, I9, I10, I11 = sym.symbols('I1, I2, I3, I4, I5, I6, I7, I8, I9, I10, I11')\n",
    "nu = 2\n",
    "nu = sym.symbols('nu')\n",
    "T = sym.Matrix([[nu*G, 0, -nu*G, 0, 0, 0, 0, 0, 0, 0, 0], \n",
    "                [-G*(nu-t1), nu*G, 0, -G*t1, 0, 0, 0, 0, 0, 0, 0],\n",
    "                [0, -nu*G, 4*nu*G, 0, 0, 0, -nu*G, -nu*G, 0, -nu*G, 0],\n",
    "                [-G*t1, 0, 0, G*(t1+t3+tC), -G*(tC), 0, 0, 0, -G*t3, 0, 0],\n",
    "                [0, 0, 0, -G*tC, G*(t2 + t4+tC), -G*t2, 0, 0, 0, 0, -G*t4],\n",
    "                [0, 0, -nu*G, 0, 0, nu*G, 0, 0, 0, 0, 0],\n",
    "                [0, 0, 0, 0, -G*t2, -G*(nu-t2), nu*G, 0, 0, 0, 0],\n",
    "                [0, 0, 0, -G*t3, 0, 0, 0, nu*G, -G*(nu-t3), 0, 0],\n",
    "                [0, 0, -nu*G, 0, 0, 0, 0, 0, nu*G, 0, 0],\n",
    "                [0, 0, 0, 0, -G*t4, 0, 0, 0, 0, nu*G, -G*(nu-t4)],\n",
    "                [0, 0, -nu*G, 0, 0, 0, 0, 0, 0, 0, nu*G]])\n",
    "T=T\n",
    "V = sym.Matrix([[V1], \n",
    "               [V2],\n",
    "               [V3],\n",
    "               [V4],\n",
    "               [V5],\n",
    "               [V6],\n",
    "               [V7],\n",
    "               [V8],\n",
    "               [V9],\n",
    "               [V10],\n",
    "               [V11]])\n",
    "\n",
    "# Other known constraints: each floating contact has 0 current, grounded contacts i current is -V_i/R, and current in = current out (I3 = -sum of ground currents)\n",
    "I = sym.Matrix([[I1],\n",
    "              [0],\n",
    "              [-V3/R],\n",
    "              [0],\n",
    "              [0],\n",
    "              [0],\n",
    "              [0],\n",
    "              [0],\n",
    "              [0],\n",
    "              [0],\n",
    "              [0],])\n",
    "solution = sym.solve(T*V-I, V)\n",
    "solution"
   ]
  },
  {
   "cell_type": "code",
   "execution_count": 34,
   "metadata": {},
   "outputs": [
    {
     "data": {
      "text/latex": [
       "$\\displaystyle \\frac{- \\frac{t_{1} t_{2} t_{3}}{2} - \\frac{t_{1} t_{2} tC}{2} + t_{1} t_{2} - \\frac{t_{1} t_{3} t_{4}}{2} - \\frac{t_{1} t_{3} tC}{2} - \\frac{t_{1} t_{4} tC}{2} + t_{1} t_{4} + t_{1} tC + t_{2} t_{3} + t_{2} tC + t_{3} t_{4} + t_{3} tC + t_{4} tC}{t_{1} t_{2} + t_{1} t_{4} + t_{1} tC + t_{2} t_{3} + t_{2} tC + t_{3} t_{4} + t_{3} tC + t_{4} tC}$"
      ],
      "text/plain": [
       "(-t1*t2*t3/2 - t1*t2*tC/2 + t1*t2 - t1*t3*t4/2 - t1*t3*tC/2 - t1*t4*tC/2 + t1*t4 + t1*tC + t2*t3 + t2*tC + t3*t4 + t3*tC + t4*tC)/(t1*t2 + t1*t4 + t1*tC + t2*t3 + t2*tC + t3*t4 + t3*tC + t4*tC)"
      ]
     },
     "execution_count": 34,
     "metadata": {},
     "output_type": "execute_result"
    }
   ],
   "source": [
    "sym.simplify((solution[V2]-solution[V3])/(solution[V1]- solution[V3]))"
   ]
  },
  {
   "cell_type": "markdown",
   "metadata": {},
   "source": [
    "### Two sets of 3 contacts, contacts all independent (no shorting of middle ohmic). One island in between"
   ]
  },
  {
   "cell_type": "code",
   "execution_count": 238,
   "metadata": {},
   "outputs": [
    {
     "data": {
      "text/plain": [
       "{V1: I1*(G**2*R**2*nu*t1*t2 + G*R*nu*t1 + G*R*nu*t2 + G*R*t1*t2 + t1 + t2)/(G*nu*(2*G*R*t1*t2 + t1 + t2)),\n",
       " V2: I1*R*(G*R*nu*t1*t2 + nu*t1 + nu*t2 - t1*t2)/(nu*(2*G*R*t1*t2 + t1 + t2)),\n",
       " V3: I1*(G**2*R**2*nu**2*t1*t2 + G*R*nu**2*t1 + G*R*nu**2*t2 + nu*t1 + nu*t2 - t1*t2)/(G*nu**2*(2*G*R*t1*t2 + t1 + t2)),\n",
       " V4: I1*t1*(G**2*R**2*nu*t2 + G*R*nu + G*R*t2 + 1)/(G*nu*(2*G*R*t1*t2 + t1 + t2)),\n",
       " V5: I1*t1*t2*(G**2*R**2*nu**2 + 2*G*R*nu + 1)/(G*nu**2*(2*G*R*t1*t2 + t1 + t2)),\n",
       " V6: I1*R*t1*t2*(G*R*nu + 1)/(nu*(2*G*R*t1*t2 + t1 + t2)),\n",
       " V7: I1*R*t1*t2*(G*R*nu + 1)/(nu*(2*G*R*t1*t2 + t1 + t2))}"
      ]
     },
     "execution_count": 238,
     "metadata": {},
     "output_type": "execute_result"
    }
   ],
   "source": [
    "# 1 2 3\n",
    "# - t1 -\n",
    "# - 4 -\n",
    "# - t2 -\n",
    "# 5 6 7\n",
    "G, R = sym.symbols('G, R')\n",
    "\n",
    "t1, t2 = sym.symbols('t1, t2')\n",
    "nu = 4\n",
    "nu = sym.symbols('nu')\n",
    "V1, V2, V3, V4, V5, V6, V7 = sym.symbols('V1, V2, V3, V4, V5, V6, V7')\n",
    "I1, I2, I3, I4, I5, I6, I7 = sym.symbols('I1, I2, I3, I4, I5, I6, I7')\n",
    "T = sym.Matrix([[nu*G, -nu*G, 0, 0, 0, 0, 0], \n",
    "                [0, nu*G, -nu*G, 0, 0, 0, 0],\n",
    "                [-G*(nu-t1), 0, nu*G, -G*t1, 0, 0, 0],\n",
    "                [-G*t1, 0, 0, G*(t1+t2), 0, 0, -G*t2],\n",
    "                [0, 0, 0, -G*t2, nu*G, 0, -G*(nu-t2)],\n",
    "                [0, 0, 0, 0, -nu*G, nu*G, 0],\n",
    "                [0, 0, 0, 0, 0, -nu*G, nu*G]])\n",
    "T=T\n",
    "V = sym.Matrix([[V1], \n",
    "               [V2],\n",
    "               [V3],\n",
    "               [V4],\n",
    "               [V5],\n",
    "               [V6],\n",
    "               [V7]])\n",
    "\n",
    "# Other known constraints: each floating contact has 0 current, grounded contacts i current is -V_i/R, and current in = current out (I3 = -sum of ground currents)\n",
    "I = sym.Matrix([[I1],\n",
    "              [-V2/R],\n",
    "              [0],\n",
    "              [0],\n",
    "              [0],\n",
    "              [-V6/R],\n",
    "              [0]])\n",
    "solution = sym.solve(T*V-I, V)\n",
    "solution"
   ]
  },
  {
   "cell_type": "code",
   "execution_count": 239,
   "metadata": {},
   "outputs": [
    {
     "data": {
      "text/latex": [
       "$\\displaystyle \\frac{\\nu t_{1} + \\nu t_{2} - t_{1} t_{2}}{G \\nu^{2} \\left(t_{1} + t_{2}\\right)}$"
      ],
      "text/plain": [
       "(nu*t1 + nu*t2 - t1*t2)/(G*nu**2*(t1 + t2))"
      ]
     },
     "execution_count": 239,
     "metadata": {},
     "output_type": "execute_result"
    }
   ],
   "source": [
    "sym.simplify(sym.limit(solution[V3]/(I1), R, 0))"
   ]
  },
  {
   "cell_type": "code",
   "execution_count": 247,
   "metadata": {},
   "outputs": [
    {
     "data": {
      "text/latex": [
       "$\\displaystyle \\frac{\\nu t_{1} + \\nu t_{2} - t_{1} t_{2}}{\\nu \\left(t_{1} + t_{2}\\right)}$"
      ],
      "text/plain": [
       "(nu*t1 + nu*t2 - t1*t2)/(nu*(t1 + t2))"
      ]
     },
     "execution_count": 247,
     "metadata": {},
     "output_type": "execute_result"
    }
   ],
   "source": [
    "sym.simplify(sym.limit(solution[V3]/sym.limit(solution[V3].subs([(t1, 0)]), t2, 0), R, 0))"
   ]
  },
  {
   "cell_type": "code",
   "execution_count": 248,
   "metadata": {},
   "outputs": [
    {
     "data": {
      "text/latex": [
       "$\\displaystyle \\frac{2 t_{1} t_{2}}{t_{1} + t_{2}}$"
      ],
      "text/plain": [
       "2*t1*t2/(t1 + t2)"
      ]
     },
     "execution_count": 248,
     "metadata": {},
     "output_type": "execute_result"
    }
   ],
   "source": [
    "sym.simplify(sym.limit(solution[V5]/sym.limit(solution[V5].subs([(t1, 1)]), t2, 1), R, 0))"
   ]
  },
  {
   "cell_type": "code",
   "execution_count": 249,
   "metadata": {},
   "outputs": [
    {
     "data": {
      "text/latex": [
       "$\\displaystyle \\frac{t_{1} t_{2}}{\\nu \\left(t_{1} + t_{2}\\right)}$"
      ],
      "text/plain": [
       "t1*t2/(nu*(t1 + t2))"
      ]
     },
     "execution_count": 249,
     "metadata": {},
     "output_type": "execute_result"
    }
   ],
   "source": [
    "sym.simplify(sym.limit(solution[V5]/sym.limit(solution[V3].subs([(t1, 0)]), t2, 0), R, 0))"
   ]
  },
  {
   "cell_type": "code",
   "execution_count": 243,
   "metadata": {},
   "outputs": [
    {
     "data": {
      "text/latex": [
       "$\\displaystyle \\frac{G I_{1} R \\nu + I_{1}}{G \\nu}$"
      ],
      "text/plain": [
       "(G*I1*R*nu + I1)/(G*nu)"
      ]
     },
     "execution_count": 243,
     "metadata": {},
     "output_type": "execute_result"
    }
   ],
   "source": [
    "sym.limit(solution[V3].subs([(t2,0)]), t1, 0)"
   ]
  },
  {
   "cell_type": "code",
   "execution_count": 240,
   "metadata": {},
   "outputs": [
    {
     "data": {
      "text/latex": [
       "$\\displaystyle \\frac{t_{1} t_{2}}{G \\nu^{2} \\left(t_{1} + t_{2}\\right)}$"
      ],
      "text/plain": [
       "t1*t2/(G*nu**2*(t1 + t2))"
      ]
     },
     "execution_count": 240,
     "metadata": {},
     "output_type": "execute_result"
    }
   ],
   "source": [
    "sym.simplify(sym.limit(solution[V5]/(I1), R, 0))"
   ]
  },
  {
   "cell_type": "code",
   "execution_count": 222,
   "metadata": {},
   "outputs": [
    {
     "data": {
      "text/latex": [
       "$\\displaystyle \\frac{I_{1}}{G \\nu}$"
      ],
      "text/plain": [
       "I1/(G*nu)"
      ]
     },
     "execution_count": 222,
     "metadata": {},
     "output_type": "execute_result"
    }
   ],
   "source": [
    "sym.simplify(solution[V1]-solution[V2])"
   ]
  },
  {
   "cell_type": "code",
   "execution_count": 192,
   "metadata": {},
   "outputs": [
    {
     "data": {
      "text/latex": [
       "$\\displaystyle \\frac{G R t_{1} t_{2} + \\nu t_{1} + \\nu t_{2} - t_{1} t_{2}}{G R t_{1} t_{2} + \\nu t_{1} + \\nu t_{2}}$"
      ],
      "text/plain": [
       "(G*R*t1*t2 + nu*t1 + nu*t2 - t1*t2)/(G*R*t1*t2 + nu*t1 + nu*t2)"
      ]
     },
     "execution_count": 192,
     "metadata": {},
     "output_type": "execute_result"
    }
   ],
   "source": [
    "sym.simplify(solution[V3]/solution[V1])"
   ]
  },
  {
   "cell_type": "code",
   "execution_count": 68,
   "metadata": {},
   "outputs": [
    {
     "data": {
      "text/latex": [
       "$\\displaystyle \\frac{t_{1} t_{2} \\left(G^{2} R^{2} + 2 G R + 1\\right)}{G \\left(2 G R t_{1} t_{2} + \\nu t_{1} + \\nu t_{2}\\right)}$"
      ],
      "text/plain": [
       "t1*t2*(G**2*R**2 + 2*G*R + 1)/(G*(2*G*R*t1*t2 + nu*t1 + nu*t2))"
      ]
     },
     "execution_count": 68,
     "metadata": {},
     "output_type": "execute_result"
    }
   ],
   "source": [
    "sym.simplify(solution[V5]/(I1))"
   ]
  },
  {
   "cell_type": "code",
   "execution_count": 93,
   "metadata": {},
   "outputs": [
    {
     "data": {
      "text/latex": [
       "$\\displaystyle \\frac{G^{2} R^{2} t_{1} t_{2} + G R \\nu t_{1} + G R \\nu t_{2} + \\nu t_{1} + \\nu t_{2} - t_{1} t_{2}}{G \\left(2 G R t_{1} t_{2} + \\nu t_{1} + \\nu t_{2}\\right)}$"
      ],
      "text/plain": [
       "(G**2*R**2*t1*t2 + G*R*nu*t1 + G*R*nu*t2 + nu*t1 + nu*t2 - t1*t2)/(G*(2*G*R*t1*t2 + nu*t1 + nu*t2))"
      ]
     },
     "execution_count": 93,
     "metadata": {},
     "output_type": "execute_result"
    }
   ],
   "source": [
    "sym.simplify(solution[V3]/(I1))"
   ]
  },
  {
   "cell_type": "markdown",
   "metadata": {},
   "source": [
    "### two sets of 3 contacts, middle ohmics different. Small island has imperfect transparency"
   ]
  },
  {
   "cell_type": "code",
   "execution_count": 194,
   "metadata": {},
   "outputs": [
    {
     "data": {
      "text/plain": [
       "{V1: -I1*(3*G*R + 1)*(-G*R*(t2_1*tO_1 + t2_2*tO_2 + t2_3*tO_3)**2 + G*R*(t2_1*tO_1 + t2_2*tO_2 + t2_3*tO_3 - 3)*(t1_1*tO_1 + t1_2*tO_2 + t1_3*tO_3 + t2_1*tO_1 + t2_2*tO_2 + t2_3*tO_3) + (3*G*R + 1)*(t1_1*tO_1 + t1_2*tO_2 + t1_3*tO_3 + t2_1*tO_1 + t2_2*tO_2 + t2_3*tO_3))/(3*G*(G**2*R**2*(t1_1*tO_1 + t1_2*tO_2 + t1_3*tO_3)**2*(t2_1*tO_1 + t2_2*tO_2 + t2_3*tO_3 - 3) + G**2*R**2*(t2_1*tO_1 + t2_2*tO_2 + t2_3*tO_3)**2*(t1_1*tO_1 + t1_2*tO_2 + t1_3*tO_3 - 3) - G**2*R**2*(t1_1*tO_1 + t1_2*tO_2 + t1_3*tO_3 - 3)*(t2_1*tO_1 + t2_2*tO_2 + t2_3*tO_3 - 3)*(t1_1*tO_1 + t1_2*tO_2 + t1_3*tO_3 + t2_1*tO_1 + t2_2*tO_2 + t2_3*tO_3) + G*R*(3*G*R + 1)*(t1_1*tO_1 + t1_2*tO_2 + t1_3*tO_3)**2 + G*R*(3*G*R + 1)*(t2_1*tO_1 + t2_2*tO_2 + t2_3*tO_3)**2 - G*R*(3*G*R + 1)*(t1_1*tO_1 + t1_2*tO_2 + t1_3*tO_3 - 3)*(t1_1*tO_1 + t1_2*tO_2 + t1_3*tO_3 + t2_1*tO_1 + t2_2*tO_2 + t2_3*tO_3) - G*R*(3*G*R + 1)*(t2_1*tO_1 + t2_2*tO_2 + t2_3*tO_3 - 3)*(t1_1*tO_1 + t1_2*tO_2 + t1_3*tO_3 + t2_1*tO_1 + t2_2*tO_2 + t2_3*tO_3) - (3*G*R + 1)**2*(t1_1*tO_1 + t1_2*tO_2 + t1_3*tO_3 + t2_1*tO_1 + t2_2*tO_2 + t2_3*tO_3))),\n",
       " V2: I1*R*(3*G*R*t1_1*t2_1*tO_1**2 + 3*G*R*t1_1*t2_2*tO_1*tO_2 + 3*G*R*t1_1*t2_3*tO_1*tO_3 + 3*G*R*t1_2*t2_1*tO_1*tO_2 + 3*G*R*t1_2*t2_2*tO_2**2 + 3*G*R*t1_2*t2_3*tO_2*tO_3 + 3*G*R*t1_3*t2_1*tO_1*tO_3 + 3*G*R*t1_3*t2_2*tO_2*tO_3 + 3*G*R*t1_3*t2_3*tO_3**2 - t1_1*t2_1*tO_1**2 - t1_1*t2_2*tO_1*tO_2 - t1_1*t2_3*tO_1*tO_3 + 3*t1_1*tO_1 - t1_2*t2_1*tO_1*tO_2 - t1_2*t2_2*tO_2**2 - t1_2*t2_3*tO_2*tO_3 + 3*t1_2*tO_2 - t1_3*t2_1*tO_1*tO_3 - t1_3*t2_2*tO_2*tO_3 - t1_3*t2_3*tO_3**2 + 3*t1_3*tO_3 + 3*t2_1*tO_1 + 3*t2_2*tO_2 + 3*t2_3*tO_3)/(3*(2*G*R*t1_1*t2_1*tO_1**2 + 2*G*R*t1_1*t2_2*tO_1*tO_2 + 2*G*R*t1_1*t2_3*tO_1*tO_3 + 2*G*R*t1_2*t2_1*tO_1*tO_2 + 2*G*R*t1_2*t2_2*tO_2**2 + 2*G*R*t1_2*t2_3*tO_2*tO_3 + 2*G*R*t1_3*t2_1*tO_1*tO_3 + 2*G*R*t1_3*t2_2*tO_2*tO_3 + 2*G*R*t1_3*t2_3*tO_3**2 + t1_1*tO_1 + t1_2*tO_2 + t1_3*tO_3 + t2_1*tO_1 + t2_2*tO_2 + t2_3*tO_3)),\n",
       " V3: I1*(9*G**2*R**2*t1_1*t2_1*tO_1**2 + 9*G**2*R**2*t1_1*t2_2*tO_1*tO_2 + 9*G**2*R**2*t1_1*t2_3*tO_1*tO_3 + 9*G**2*R**2*t1_2*t2_1*tO_1*tO_2 + 9*G**2*R**2*t1_2*t2_2*tO_2**2 + 9*G**2*R**2*t1_2*t2_3*tO_2*tO_3 + 9*G**2*R**2*t1_3*t2_1*tO_1*tO_3 + 9*G**2*R**2*t1_3*t2_2*tO_2*tO_3 + 9*G**2*R**2*t1_3*t2_3*tO_3**2 + 9*G*R*t1_1*tO_1 + 9*G*R*t1_2*tO_2 + 9*G*R*t1_3*tO_3 + 9*G*R*t2_1*tO_1 + 9*G*R*t2_2*tO_2 + 9*G*R*t2_3*tO_3 - t1_1*t2_1*tO_1**2 - t1_1*t2_2*tO_1*tO_2 - t1_1*t2_3*tO_1*tO_3 + 3*t1_1*tO_1 - t1_2*t2_1*tO_1*tO_2 - t1_2*t2_2*tO_2**2 - t1_2*t2_3*tO_2*tO_3 + 3*t1_2*tO_2 - t1_3*t2_1*tO_1*tO_3 - t1_3*t2_2*tO_2*tO_3 - t1_3*t2_3*tO_3**2 + 3*t1_3*tO_3 + 3*t2_1*tO_1 + 3*t2_2*tO_2 + 3*t2_3*tO_3)/(9*G*(2*G*R*t1_1*t2_1*tO_1**2 + 2*G*R*t1_1*t2_2*tO_1*tO_2 + 2*G*R*t1_1*t2_3*tO_1*tO_3 + 2*G*R*t1_2*t2_1*tO_1*tO_2 + 2*G*R*t1_2*t2_2*tO_2**2 + 2*G*R*t1_2*t2_3*tO_2*tO_3 + 2*G*R*t1_3*t2_1*tO_1*tO_3 + 2*G*R*t1_3*t2_2*tO_2*tO_3 + 2*G*R*t1_3*t2_3*tO_3**2 + t1_1*tO_1 + t1_2*tO_2 + t1_3*tO_3 + t2_1*tO_1 + t2_2*tO_2 + t2_3*tO_3)),\n",
       " V4: -I1*(3*G*R + 1)*(t1_1*tO_1 + t1_2*tO_2 + t1_3*tO_3)*(G*R*(t2_1*tO_1 + t2_2*tO_2 + t2_3*tO_3 - 3) + 3*G*R + 1)/(3*G*(G**2*R**2*(t1_1*tO_1 + t1_2*tO_2 + t1_3*tO_3)**2*(t2_1*tO_1 + t2_2*tO_2 + t2_3*tO_3 - 3) + G**2*R**2*(t2_1*tO_1 + t2_2*tO_2 + t2_3*tO_3)**2*(t1_1*tO_1 + t1_2*tO_2 + t1_3*tO_3 - 3) - G**2*R**2*(t1_1*tO_1 + t1_2*tO_2 + t1_3*tO_3 - 3)*(t2_1*tO_1 + t2_2*tO_2 + t2_3*tO_3 - 3)*(t1_1*tO_1 + t1_2*tO_2 + t1_3*tO_3 + t2_1*tO_1 + t2_2*tO_2 + t2_3*tO_3) + G*R*(3*G*R + 1)*(t1_1*tO_1 + t1_2*tO_2 + t1_3*tO_3)**2 + G*R*(3*G*R + 1)*(t2_1*tO_1 + t2_2*tO_2 + t2_3*tO_3)**2 - G*R*(3*G*R + 1)*(t1_1*tO_1 + t1_2*tO_2 + t1_3*tO_3 - 3)*(t1_1*tO_1 + t1_2*tO_2 + t1_3*tO_3 + t2_1*tO_1 + t2_2*tO_2 + t2_3*tO_3) - G*R*(3*G*R + 1)*(t2_1*tO_1 + t2_2*tO_2 + t2_3*tO_3 - 3)*(t1_1*tO_1 + t1_2*tO_2 + t1_3*tO_3 + t2_1*tO_1 + t2_2*tO_2 + t2_3*tO_3) - (3*G*R + 1)**2*(t1_1*tO_1 + t1_2*tO_2 + t1_3*tO_3 + t2_1*tO_1 + t2_2*tO_2 + t2_3*tO_3))),\n",
       " V5: -I1*(3*G*R + 1)**2*(t1_1*tO_1 + t1_2*tO_2 + t1_3*tO_3)*(t2_1*tO_1 + t2_2*tO_2 + t2_3*tO_3)/(9*G*(G**2*R**2*(t1_1*tO_1 + t1_2*tO_2 + t1_3*tO_3)**2*(t2_1*tO_1 + t2_2*tO_2 + t2_3*tO_3 - 3) + G**2*R**2*(t2_1*tO_1 + t2_2*tO_2 + t2_3*tO_3)**2*(t1_1*tO_1 + t1_2*tO_2 + t1_3*tO_3 - 3) - G**2*R**2*(t1_1*tO_1 + t1_2*tO_2 + t1_3*tO_3 - 3)*(t2_1*tO_1 + t2_2*tO_2 + t2_3*tO_3 - 3)*(t1_1*tO_1 + t1_2*tO_2 + t1_3*tO_3 + t2_1*tO_1 + t2_2*tO_2 + t2_3*tO_3) + G*R*(3*G*R + 1)*(t1_1*tO_1 + t1_2*tO_2 + t1_3*tO_3)**2 + G*R*(3*G*R + 1)*(t2_1*tO_1 + t2_2*tO_2 + t2_3*tO_3)**2 - G*R*(3*G*R + 1)*(t1_1*tO_1 + t1_2*tO_2 + t1_3*tO_3 - 3)*(t1_1*tO_1 + t1_2*tO_2 + t1_3*tO_3 + t2_1*tO_1 + t2_2*tO_2 + t2_3*tO_3) - G*R*(3*G*R + 1)*(t2_1*tO_1 + t2_2*tO_2 + t2_3*tO_3 - 3)*(t1_1*tO_1 + t1_2*tO_2 + t1_3*tO_3 + t2_1*tO_1 + t2_2*tO_2 + t2_3*tO_3) - (3*G*R + 1)**2*(t1_1*tO_1 + t1_2*tO_2 + t1_3*tO_3 + t2_1*tO_1 + t2_2*tO_2 + t2_3*tO_3))),\n",
       " V6: I1*R*(3*G*R*t1_1*t2_1*tO_1**2 + 3*G*R*t1_1*t2_2*tO_1*tO_2 + 3*G*R*t1_1*t2_3*tO_1*tO_3 + 3*G*R*t1_2*t2_1*tO_1*tO_2 + 3*G*R*t1_2*t2_2*tO_2**2 + 3*G*R*t1_2*t2_3*tO_2*tO_3 + 3*G*R*t1_3*t2_1*tO_1*tO_3 + 3*G*R*t1_3*t2_2*tO_2*tO_3 + 3*G*R*t1_3*t2_3*tO_3**2 + t1_1*t2_1*tO_1**2 + t1_1*t2_2*tO_1*tO_2 + t1_1*t2_3*tO_1*tO_3 + t1_2*t2_1*tO_1*tO_2 + t1_2*t2_2*tO_2**2 + t1_2*t2_3*tO_2*tO_3 + t1_3*t2_1*tO_1*tO_3 + t1_3*t2_2*tO_2*tO_3 + t1_3*t2_3*tO_3**2)/(3*(2*G*R*t1_1*t2_1*tO_1**2 + 2*G*R*t1_1*t2_2*tO_1*tO_2 + 2*G*R*t1_1*t2_3*tO_1*tO_3 + 2*G*R*t1_2*t2_1*tO_1*tO_2 + 2*G*R*t1_2*t2_2*tO_2**2 + 2*G*R*t1_2*t2_3*tO_2*tO_3 + 2*G*R*t1_3*t2_1*tO_1*tO_3 + 2*G*R*t1_3*t2_2*tO_2*tO_3 + 2*G*R*t1_3*t2_3*tO_3**2 + t1_1*tO_1 + t1_2*tO_2 + t1_3*tO_3 + t2_1*tO_1 + t2_2*tO_2 + t2_3*tO_3)),\n",
       " V7: I1*R*(3*G*R*t1_1*t2_1*tO_1**2 + 3*G*R*t1_1*t2_2*tO_1*tO_2 + 3*G*R*t1_1*t2_3*tO_1*tO_3 + 3*G*R*t1_2*t2_1*tO_1*tO_2 + 3*G*R*t1_2*t2_2*tO_2**2 + 3*G*R*t1_2*t2_3*tO_2*tO_3 + 3*G*R*t1_3*t2_1*tO_1*tO_3 + 3*G*R*t1_3*t2_2*tO_2*tO_3 + 3*G*R*t1_3*t2_3*tO_3**2 + t1_1*t2_1*tO_1**2 + t1_1*t2_2*tO_1*tO_2 + t1_1*t2_3*tO_1*tO_3 + t1_2*t2_1*tO_1*tO_2 + t1_2*t2_2*tO_2**2 + t1_2*t2_3*tO_2*tO_3 + t1_3*t2_1*tO_1*tO_3 + t1_3*t2_2*tO_2*tO_3 + t1_3*t2_3*tO_3**2)/(3*(2*G*R*t1_1*t2_1*tO_1**2 + 2*G*R*t1_1*t2_2*tO_1*tO_2 + 2*G*R*t1_1*t2_3*tO_1*tO_3 + 2*G*R*t1_2*t2_1*tO_1*tO_2 + 2*G*R*t1_2*t2_2*tO_2**2 + 2*G*R*t1_2*t2_3*tO_2*tO_3 + 2*G*R*t1_3*t2_1*tO_1*tO_3 + 2*G*R*t1_3*t2_2*tO_2*tO_3 + 2*G*R*t1_3*t2_3*tO_3**2 + t1_1*tO_1 + t1_2*tO_2 + t1_3*tO_3 + t2_1*tO_1 + t2_2*tO_2 + t2_3*tO_3))}"
      ]
     },
     "execution_count": 194,
     "metadata": {},
     "output_type": "execute_result"
    }
   ],
   "source": [
    "# 1 2 3\n",
    "# - t1 -\n",
    "# - 4 -\n",
    "# - t2 -\n",
    "# 5 6 7\n",
    "G, R = sym.symbols('G, R')\n",
    "t1_1, t1_2, t1_3 = sym.symbols('t1_1, t1_2, t1_3')\n",
    "t2_1, t2_2, t2_3 = sym.symbols('t2_1, t2_2, t2_3')\n",
    "tO_1, tO_2, tO_3 = sym.symbols('tO_1, tO_2, tO_3')\n",
    "nu = 3\n",
    "V1, V2, V3, V4, V5, V6, V7 = sym.symbols('V1, V2, V3, V4, V5, V6, V7')\n",
    "I1, I2, I3, I4, I5, I6, I7 = sym.symbols('I1, I2, I3, I4, I5, I6, I7')\n",
    "T = sym.Matrix([[nu*G, -nu*G, 0, 0, 0, 0, 0], \n",
    "                [0, nu*G, -nu*G, 0, 0, 0, 0],\n",
    "                [-G*(nu-t1_1-t1_2-t1_3)-G*(t1_1*(1-tO_1)+t1_2*(1-tO_2)+t1_3*(1-tO_3)), 0, nu*G, -G*(t1_1*tO_1+t1_2*tO_2+t1_3*tO_3), 0, 0, 0],\n",
    "                [-G*(t1_1*tO_1+t1_2*tO_2+t1_3*tO_3), 0, 0, G*(t1_1*tO_1+t1_2*tO_2+t1_3*tO_3)+G*(t2_1*tO_1 + t2_2*tO_2+t2_3*tO_3), 0, 0, -G*(t2_1*tO_1 + t2_2*tO_2+t2_3*tO_3)],\n",
    "                [0, 0, 0, -G*(t2_1*tO_1 + t2_2*tO_2+t2_3*tO_3), nu*G, 0, -G*(nu-t2_1-t2_2-t2_3)-G*(t2_1*(1-tO_1)+t2_2*(1-tO_2)+t2_3*(1-tO_3))],\n",
    "                [0, 0, 0, 0, -nu*G, nu*G, 0],\n",
    "                [0, 0, 0, 0, 0, -nu*G, nu*G]])\n",
    "T=T\n",
    "V = sym.Matrix([[V1], \n",
    "               [V2],\n",
    "               [V3],\n",
    "               [V4],\n",
    "               [V5],\n",
    "               [V6],\n",
    "               [V7]])\n",
    "\n",
    "# Other known constraints: each floating contact has 0 current, grounded contacts i current is -V_i/R, and current in = current out (I3 = -sum of ground currents)\n",
    "I = sym.Matrix([[I1],\n",
    "              [-V2/R],\n",
    "              [0],\n",
    "              [0],\n",
    "              [0],\n",
    "              [-V6/R],\n",
    "              [0]])\n",
    "solution = sym.solve(T*V-I, V)\n",
    "solution"
   ]
  },
  {
   "cell_type": "code",
   "execution_count": 188,
   "metadata": {},
   "outputs": [
    {
     "data": {
      "text/latex": [
       "$\\displaystyle \\frac{- \\frac{t_{1 1} t_{2 1}}{3} - \\frac{t_{1 1} t_{2 2}}{3} - \\frac{t_{1 1} t_{2 3}}{3} + t_{1 1} - \\frac{t_{1 2} t_{2 1}}{3} - \\frac{t_{1 2} t_{2 2}}{3} - \\frac{t_{1 2} t_{2 3}}{3} + t_{1 2} - \\frac{t_{1 3} t_{2 1}}{3} - \\frac{t_{1 3} t_{2 2}}{3} - \\frac{t_{1 3} t_{2 3}}{3} + t_{1 3} + t_{2 1} + t_{2 2} + t_{2 3}}{t_{1 1} + t_{1 2} + t_{1 3} + t_{2 1} + t_{2 2} + t_{2 3}}$"
      ],
      "text/plain": [
       "(-t1_1*t2_1/3 - t1_1*t2_2/3 - t1_1*t2_3/3 + t1_1 - t1_2*t2_1/3 - t1_2*t2_2/3 - t1_2*t2_3/3 + t1_2 - t1_3*t2_1/3 - t1_3*t2_2/3 - t1_3*t2_3/3 + t1_3 + t2_1 + t2_2 + t2_3)/(t1_1 + t1_2 + t1_3 + t2_1 + t2_2 + t2_3)"
      ]
     },
     "execution_count": 188,
     "metadata": {},
     "output_type": "execute_result"
    }
   ],
   "source": [
    "sym.simplify(sym.limit(solution[V3]/solution[V1], R, 0)).subs([(tO_1, 1), (tO_2, 1), (tO_3,1)])"
   ]
  },
  {
   "cell_type": "code",
   "execution_count": 209,
   "metadata": {},
   "outputs": [
    {
     "data": {
      "text/latex": [
       "$\\displaystyle \\frac{I_{1} \\left(9 G^{2} R^{2} t_{1 1} t_{2 1} tO_{1}^{2} + 9 G^{2} R^{2} t_{1 1} t_{2 2} tO_{1} tO_{2} + 9 G^{2} R^{2} t_{1 1} t_{2 3} tO_{1} tO_{3} + 9 G^{2} R^{2} t_{1 2} t_{2 1} tO_{1} tO_{2} + 9 G^{2} R^{2} t_{1 2} t_{2 2} tO_{2}^{2} + 9 G^{2} R^{2} t_{1 2} t_{2 3} tO_{2} tO_{3} + 9 G^{2} R^{2} t_{1 3} t_{2 1} tO_{1} tO_{3} + 9 G^{2} R^{2} t_{1 3} t_{2 2} tO_{2} tO_{3} + 9 G^{2} R^{2} t_{1 3} t_{2 3} tO_{3}^{2} + 9 G R t_{1 1} tO_{1} + 9 G R t_{1 2} tO_{2} + 9 G R t_{1 3} tO_{3} + 9 G R t_{2 1} tO_{1} + 9 G R t_{2 2} tO_{2} + 9 G R t_{2 3} tO_{3} - t_{1 1} t_{2 1} tO_{1}^{2} - t_{1 1} t_{2 2} tO_{1} tO_{2} - t_{1 1} t_{2 3} tO_{1} tO_{3} + 3 t_{1 1} tO_{1} - t_{1 2} t_{2 1} tO_{1} tO_{2} - t_{1 2} t_{2 2} tO_{2}^{2} - t_{1 2} t_{2 3} tO_{2} tO_{3} + 3 t_{1 2} tO_{2} - t_{1 3} t_{2 1} tO_{1} tO_{3} - t_{1 3} t_{2 2} tO_{2} tO_{3} - t_{1 3} t_{2 3} tO_{3}^{2} + 3 t_{1 3} tO_{3} + 3 t_{2 1} tO_{1} + 3 t_{2 2} tO_{2} + 3 t_{2 3} tO_{3}\\right)}{9 G \\left(2 G R t_{1 1} t_{2 1} tO_{1}^{2} + 2 G R t_{1 1} t_{2 2} tO_{1} tO_{2} + 2 G R t_{1 1} t_{2 3} tO_{1} tO_{3} + 2 G R t_{1 2} t_{2 1} tO_{1} tO_{2} + 2 G R t_{1 2} t_{2 2} tO_{2}^{2} + 2 G R t_{1 2} t_{2 3} tO_{2} tO_{3} + 2 G R t_{1 3} t_{2 1} tO_{1} tO_{3} + 2 G R t_{1 3} t_{2 2} tO_{2} tO_{3} + 2 G R t_{1 3} t_{2 3} tO_{3}^{2} + t_{1 1} tO_{1} + t_{1 2} tO_{2} + t_{1 3} tO_{3} + t_{2 1} tO_{1} + t_{2 2} tO_{2} + t_{2 3} tO_{3}\\right)}$"
      ],
      "text/plain": [
       "I1*(9*G**2*R**2*t1_1*t2_1*tO_1**2 + 9*G**2*R**2*t1_1*t2_2*tO_1*tO_2 + 9*G**2*R**2*t1_1*t2_3*tO_1*tO_3 + 9*G**2*R**2*t1_2*t2_1*tO_1*tO_2 + 9*G**2*R**2*t1_2*t2_2*tO_2**2 + 9*G**2*R**2*t1_2*t2_3*tO_2*tO_3 + 9*G**2*R**2*t1_3*t2_1*tO_1*tO_3 + 9*G**2*R**2*t1_3*t2_2*tO_2*tO_3 + 9*G**2*R**2*t1_3*t2_3*tO_3**2 + 9*G*R*t1_1*tO_1 + 9*G*R*t1_2*tO_2 + 9*G*R*t1_3*tO_3 + 9*G*R*t2_1*tO_1 + 9*G*R*t2_2*tO_2 + 9*G*R*t2_3*tO_3 - t1_1*t2_1*tO_1**2 - t1_1*t2_2*tO_1*tO_2 - t1_1*t2_3*tO_1*tO_3 + 3*t1_1*tO_1 - t1_2*t2_1*tO_1*tO_2 - t1_2*t2_2*tO_2**2 - t1_2*t2_3*tO_2*tO_3 + 3*t1_2*tO_2 - t1_3*t2_1*tO_1*tO_3 - t1_3*t2_2*tO_2*tO_3 - t1_3*t2_3*tO_3**2 + 3*t1_3*tO_3 + 3*t2_1*tO_1 + 3*t2_2*tO_2 + 3*t2_3*tO_3)/(9*G*(2*G*R*t1_1*t2_1*tO_1**2 + 2*G*R*t1_1*t2_2*tO_1*tO_2 + 2*G*R*t1_1*t2_3*tO_1*tO_3 + 2*G*R*t1_2*t2_1*tO_1*tO_2 + 2*G*R*t1_2*t2_2*tO_2**2 + 2*G*R*t1_2*t2_3*tO_2*tO_3 + 2*G*R*t1_3*t2_1*tO_1*tO_3 + 2*G*R*t1_3*t2_2*tO_2*tO_3 + 2*G*R*t1_3*t2_3*tO_3**2 + t1_1*tO_1 + t1_2*tO_2 + t1_3*tO_3 + t2_1*tO_1 + t2_2*tO_2 + t2_3*tO_3))"
      ]
     },
     "execution_count": 209,
     "metadata": {},
     "output_type": "execute_result"
    }
   ],
   "source": [
    "solution[V3]"
   ]
  },
  {
   "cell_type": "code",
   "execution_count": 200,
   "metadata": {},
   "outputs": [
    {
     "data": {
      "text/latex": [
       "$\\displaystyle -0.882352941176471 + \\frac{R tO_{1}^{2} + R tO_{1} tO_{2} + R tO_{1} tO_{3} - \\frac{tO_{1}^{2}}{3} - \\frac{tO_{1} tO_{2}}{3} - \\frac{tO_{1} tO_{3}}{3} + 2 tO_{1} + tO_{2} + tO_{3}}{R tO_{1}^{2} + R tO_{1} tO_{2} + R tO_{1} tO_{3} + 2 tO_{1} + tO_{2} + tO_{3}}$"
      ],
      "text/plain": [
       "-0.882352941176471 + (R*tO_1**2 + R*tO_1*tO_2 + R*tO_1*tO_3 - tO_1**2/3 - tO_1*tO_2/3 - tO_1*tO_3/3 + 2*tO_1 + tO_2 + tO_3)/(R*tO_1**2 + R*tO_1*tO_2 + R*tO_1*tO_3 + 2*tO_1 + tO_2 + tO_3)"
      ]
     },
     "execution_count": 200,
     "metadata": {},
     "output_type": "execute_result"
    }
   ],
   "source": [
    "V1_0r = sym.simplify(solution[V3]/solution[V1]).subs([(t1_1, 1), (t1_2,0), (t1_3, 0), (t2_1, 1), (t2_2, 1), (t2_3, 1), (G,1)])\n",
    "V1_0r = V1_0r - 4.5/5.1\n",
    "V1_0r"
   ]
  },
  {
   "cell_type": "code",
   "execution_count": 201,
   "metadata": {},
   "outputs": [
    {
     "data": {
      "text/latex": [
       "$\\displaystyle -0.813725490196079 + \\frac{R tO_{1}^{2} + 2 R tO_{1} tO_{2} + R tO_{1} tO_{3} + R tO_{2}^{2} + R tO_{2} tO_{3} - \\frac{tO_{1}^{2}}{3} - \\frac{2 tO_{1} tO_{2}}{3} - \\frac{tO_{1} tO_{3}}{3} + 2 tO_{1} - \\frac{tO_{2}^{2}}{3} - \\frac{tO_{2} tO_{3}}{3} + 2 tO_{2} + tO_{3}}{R tO_{1}^{2} + 2 R tO_{1} tO_{2} + R tO_{1} tO_{3} + R tO_{2}^{2} + R tO_{2} tO_{3} + 2 tO_{1} + 2 tO_{2} + tO_{3}}$"
      ],
      "text/plain": [
       "-0.813725490196079 + (R*tO_1**2 + 2*R*tO_1*tO_2 + R*tO_1*tO_3 + R*tO_2**2 + R*tO_2*tO_3 - tO_1**2/3 - 2*tO_1*tO_2/3 - tO_1*tO_3/3 + 2*tO_1 - tO_2**2/3 - tO_2*tO_3/3 + 2*tO_2 + tO_3)/(R*tO_1**2 + 2*R*tO_1*tO_2 + R*tO_1*tO_3 + R*tO_2**2 + R*tO_2*tO_3 + 2*tO_1 + 2*tO_2 + tO_3)"
      ]
     },
     "execution_count": 201,
     "metadata": {},
     "output_type": "execute_result"
    }
   ],
   "source": [
    "V2_0r = sym.simplify(solution[V3]/solution[V1]).subs([(t1_1, 1), (t1_2,1), (t1_3, 0), (t2_1, 1), (t2_2, 1), (t2_3, 1), (G,1)])\n",
    "V2_0r = V2_0r - 4.15/5.1\n",
    "V2_0r"
   ]
  },
  {
   "cell_type": "code",
   "execution_count": 202,
   "metadata": {},
   "outputs": [
    {
     "data": {
      "text/latex": [
       "$\\displaystyle -0.764705882352941 + \\frac{R tO_{1}^{2} + 2 R tO_{1} tO_{2} + 2 R tO_{1} tO_{3} + R tO_{2}^{2} + 2 R tO_{2} tO_{3} + R tO_{3}^{2} - \\frac{tO_{1}^{2}}{3} - \\frac{2 tO_{1} tO_{2}}{3} - \\frac{2 tO_{1} tO_{3}}{3} + 2 tO_{1} - \\frac{tO_{2}^{2}}{3} - \\frac{2 tO_{2} tO_{3}}{3} + 2 tO_{2} - \\frac{tO_{3}^{2}}{3} + 2 tO_{3}}{R tO_{1}^{2} + 2 R tO_{1} tO_{2} + 2 R tO_{1} tO_{3} + R tO_{2}^{2} + 2 R tO_{2} tO_{3} + R tO_{3}^{2} + 2 tO_{1} + 2 tO_{2} + 2 tO_{3}}$"
      ],
      "text/plain": [
       "-0.764705882352941 + (R*tO_1**2 + 2*R*tO_1*tO_2 + 2*R*tO_1*tO_3 + R*tO_2**2 + 2*R*tO_2*tO_3 + R*tO_3**2 - tO_1**2/3 - 2*tO_1*tO_2/3 - 2*tO_1*tO_3/3 + 2*tO_1 - tO_2**2/3 - 2*tO_2*tO_3/3 + 2*tO_2 - tO_3**2/3 + 2*tO_3)/(R*tO_1**2 + 2*R*tO_1*tO_2 + 2*R*tO_1*tO_3 + R*tO_2**2 + 2*R*tO_2*tO_3 + R*tO_3**2 + 2*tO_1 + 2*tO_2 + 2*tO_3)"
      ]
     },
     "execution_count": 202,
     "metadata": {},
     "output_type": "execute_result"
    }
   ],
   "source": [
    "V3_0r = sym.simplify(solution[V3]/solution[V1]).subs([(t1_1, 1), (t1_2,1), (t1_3, 1), (t2_1, 1), (t2_2, 1), (t2_3, 1), (G,1)])\n",
    "V3_0r = V3_0r - 3.9/5.1\n",
    "V3_0r"
   ]
  },
  {
   "cell_type": "code",
   "execution_count": 207,
   "metadata": {},
   "outputs": [
    {
     "data": {
      "text/latex": [
       "$\\displaystyle \\frac{\\left(2 R tO_{1}^{2} + 2 R tO_{1} tO_{2} + 2 R tO_{1} tO_{3} + 2 tO_{1} + tO_{2} + tO_{3}\\right) \\left(9 R^{2} tO_{1}^{2} + 18 R^{2} tO_{1} tO_{2} + 9 R^{2} tO_{1} tO_{3} + 9 R^{2} tO_{2}^{2} + 9 R^{2} tO_{2} tO_{3} + 18 R tO_{1} + 18 R tO_{2} + 9 R tO_{3} - tO_{1}^{2} - 2 tO_{1} tO_{2} - tO_{1} tO_{3} + 6 tO_{1} - tO_{2}^{2} - tO_{2} tO_{3} + 6 tO_{2} + 3 tO_{3}\\right)}{\\left(2 R tO_{1}^{2} + 4 R tO_{1} tO_{2} + 2 R tO_{1} tO_{3} + 2 R tO_{2}^{2} + 2 R tO_{2} tO_{3} + 2 tO_{1} + 2 tO_{2} + tO_{3}\\right) \\left(9 R^{2} tO_{1}^{2} + 9 R^{2} tO_{1} tO_{2} + 9 R^{2} tO_{1} tO_{3} + 18 R tO_{1} + 9 R tO_{2} + 9 R tO_{3} - tO_{1}^{2} - tO_{1} tO_{2} - tO_{1} tO_{3} + 6 tO_{1} + 3 tO_{2} + 3 tO_{3}\\right)} - 0.922222222222222$"
      ],
      "text/plain": [
       "(2*R*tO_1**2 + 2*R*tO_1*tO_2 + 2*R*tO_1*tO_3 + 2*tO_1 + tO_2 + tO_3)*(9*R**2*tO_1**2 + 18*R**2*tO_1*tO_2 + 9*R**2*tO_1*tO_3 + 9*R**2*tO_2**2 + 9*R**2*tO_2*tO_3 + 18*R*tO_1 + 18*R*tO_2 + 9*R*tO_3 - tO_1**2 - 2*tO_1*tO_2 - tO_1*tO_3 + 6*tO_1 - tO_2**2 - tO_2*tO_3 + 6*tO_2 + 3*tO_3)/((2*R*tO_1**2 + 4*R*tO_1*tO_2 + 2*R*tO_1*tO_3 + 2*R*tO_2**2 + 2*R*tO_2*tO_3 + 2*tO_1 + 2*tO_2 + tO_3)*(9*R**2*tO_1**2 + 9*R**2*tO_1*tO_2 + 9*R**2*tO_1*tO_3 + 18*R*tO_1 + 9*R*tO_2 + 9*R*tO_3 - tO_1**2 - tO_1*tO_2 - tO_1*tO_3 + 6*tO_1 + 3*tO_2 + 3*tO_3)) - 0.922222222222222"
      ]
     },
     "execution_count": 207,
     "metadata": {},
     "output_type": "execute_result"
    }
   ],
   "source": [
    "V2_1r = sym.simplify((solution[V3].subs([(t1_2, 1)])/solution[V3].subs([(t1_2, 0)])).subs([(t1_1, 1), (t1_3, 0), (t2_1, 1), (t2_2, 1), (t2_3, 1), (G,1)]))\n",
    "V2_1r = V2_1r - 4.15/4.5\n",
    "V2_1r"
   ]
  },
  {
   "cell_type": "code",
   "execution_count": 208,
   "metadata": {},
   "outputs": [
    {
     "ename": "KeyboardInterrupt",
     "evalue": "",
     "output_type": "error",
     "traceback": [
      "\u001b[1;31m---------------------------------------------------------------------------\u001b[0m",
      "\u001b[1;31mKeyboardInterrupt\u001b[0m                         Traceback (most recent call last)",
      "    \u001b[1;31m[... skipping hidden 1 frame]\u001b[0m\n",
      "\u001b[1;32m<ipython-input-208-c193b47495de>\u001b[0m in \u001b[0;36m<module>\u001b[1;34m\u001b[0m\n\u001b[1;32m----> 1\u001b[1;33m \u001b[0msolts\u001b[0m \u001b[1;33m=\u001b[0m \u001b[0msym\u001b[0m\u001b[1;33m.\u001b[0m\u001b[0msolve\u001b[0m\u001b[1;33m(\u001b[0m\u001b[1;33m(\u001b[0m\u001b[0mV1_0r\u001b[0m\u001b[1;33m,\u001b[0m \u001b[0mV2_0r\u001b[0m\u001b[1;33m,\u001b[0m \u001b[0mV3_0r\u001b[0m\u001b[1;33m,\u001b[0m \u001b[0mV2_1r\u001b[0m\u001b[1;33m)\u001b[0m\u001b[1;33m,\u001b[0m \u001b[1;33m(\u001b[0m\u001b[0mtO_1\u001b[0m\u001b[1;33m,\u001b[0m \u001b[0mtO_2\u001b[0m\u001b[1;33m,\u001b[0m \u001b[0mtO_3\u001b[0m\u001b[1;33m,\u001b[0m \u001b[0mR\u001b[0m\u001b[1;33m)\u001b[0m\u001b[1;33m)\u001b[0m\u001b[1;33m\u001b[0m\u001b[1;33m\u001b[0m\u001b[0m\n\u001b[0m",
      "\u001b[1;32m~\\miniconda3\\lib\\site-packages\\sympy\\solvers\\solvers.py\u001b[0m in \u001b[0;36msolve\u001b[1;34m(f, *symbols, **flags)\u001b[0m\n\u001b[0;32m   1095\u001b[0m     \u001b[1;32melse\u001b[0m\u001b[1;33m:\u001b[0m\u001b[1;33m\u001b[0m\u001b[1;33m\u001b[0m\u001b[0m\n\u001b[1;32m-> 1096\u001b[1;33m         \u001b[0msolution\u001b[0m \u001b[1;33m=\u001b[0m \u001b[0m_solve_system\u001b[0m\u001b[1;33m(\u001b[0m\u001b[0mf\u001b[0m\u001b[1;33m,\u001b[0m \u001b[0msymbols\u001b[0m\u001b[1;33m,\u001b[0m \u001b[1;33m**\u001b[0m\u001b[0mflags\u001b[0m\u001b[1;33m)\u001b[0m\u001b[1;33m\u001b[0m\u001b[1;33m\u001b[0m\u001b[0m\n\u001b[0m\u001b[0;32m   1097\u001b[0m \u001b[1;33m\u001b[0m\u001b[0m\n",
      "\u001b[1;32m~\\miniconda3\\lib\\site-packages\\sympy\\solvers\\solvers.py\u001b[0m in \u001b[0;36m_solve_system\u001b[1;34m(exprs, symbols, **flags)\u001b[0m\n\u001b[0;32m   1850\u001b[0m                 \u001b[1;32mif\u001b[0m \u001b[0mcheck\u001b[0m \u001b[1;32mand\u001b[0m \u001b[0mr\u001b[0m\u001b[1;33m:\u001b[0m\u001b[1;33m\u001b[0m\u001b[1;33m\u001b[0m\u001b[0m\n\u001b[1;32m-> 1851\u001b[1;33m                     \u001b[0mb\u001b[0m \u001b[1;33m=\u001b[0m \u001b[0mchecksol\u001b[0m\u001b[1;33m(\u001b[0m\u001b[0mu\u001b[0m\u001b[1;33m,\u001b[0m \u001b[0mu\u001b[0m\u001b[1;33m,\u001b[0m \u001b[0meq2\u001b[0m\u001b[1;33m,\u001b[0m \u001b[0mminimal\u001b[0m\u001b[1;33m=\u001b[0m\u001b[1;32mTrue\u001b[0m\u001b[1;33m)\u001b[0m\u001b[1;33m\u001b[0m\u001b[1;33m\u001b[0m\u001b[0m\n\u001b[0m\u001b[0;32m   1852\u001b[0m                     \u001b[1;32mif\u001b[0m \u001b[0mb\u001b[0m \u001b[1;32mis\u001b[0m \u001b[1;32mnot\u001b[0m \u001b[1;32mNone\u001b[0m\u001b[1;33m:\u001b[0m\u001b[1;33m\u001b[0m\u001b[1;33m\u001b[0m\u001b[0m\n",
      "\u001b[1;32m~\\miniconda3\\lib\\site-packages\\sympy\\solvers\\solvers.py\u001b[0m in \u001b[0;36mchecksol\u001b[1;34m(f, symbol, sol, **flags)\u001b[0m\n\u001b[0;32m    306\u001b[0m                 \u001b[0m_\u001b[0m\u001b[1;33m,\u001b[0m \u001b[0mval\u001b[0m \u001b[1;33m=\u001b[0m \u001b[0mval\u001b[0m\u001b[1;33m.\u001b[0m\u001b[0mas_content_primitive\u001b[0m\u001b[1;33m(\u001b[0m\u001b[1;33m)\u001b[0m\u001b[1;33m\u001b[0m\u001b[1;33m\u001b[0m\u001b[0m\n\u001b[1;32m--> 307\u001b[1;33m                 \u001b[0mval\u001b[0m \u001b[1;33m=\u001b[0m \u001b[0m_mexpand\u001b[0m\u001b[1;33m(\u001b[0m\u001b[0mval\u001b[0m\u001b[1;33m.\u001b[0m\u001b[0mas_numer_denom\u001b[0m\u001b[1;33m(\u001b[0m\u001b[1;33m)\u001b[0m\u001b[1;33m[\u001b[0m\u001b[1;36m0\u001b[0m\u001b[1;33m]\u001b[0m\u001b[1;33m,\u001b[0m \u001b[0mrecursive\u001b[0m\u001b[1;33m=\u001b[0m\u001b[1;32mTrue\u001b[0m\u001b[1;33m)\u001b[0m\u001b[1;33m\u001b[0m\u001b[1;33m\u001b[0m\u001b[0m\n\u001b[0m\u001b[0;32m    308\u001b[0m         \u001b[1;32melif\u001b[0m \u001b[0mattempt\u001b[0m \u001b[1;33m==\u001b[0m \u001b[1;36m2\u001b[0m\u001b[1;33m:\u001b[0m\u001b[1;33m\u001b[0m\u001b[1;33m\u001b[0m\u001b[0m\n",
      "\u001b[1;32m~\\miniconda3\\lib\\site-packages\\sympy\\core\\function.py\u001b[0m in \u001b[0;36m_mexpand\u001b[1;34m(expr, recursive)\u001b[0m\n\u001b[0;32m   2775\u001b[0m     \u001b[1;32mwhile\u001b[0m \u001b[0mwas\u001b[0m \u001b[1;33m!=\u001b[0m \u001b[0mexpr\u001b[0m\u001b[1;33m:\u001b[0m\u001b[1;33m\u001b[0m\u001b[1;33m\u001b[0m\u001b[0m\n\u001b[1;32m-> 2776\u001b[1;33m         \u001b[0mwas\u001b[0m\u001b[1;33m,\u001b[0m \u001b[0mexpr\u001b[0m \u001b[1;33m=\u001b[0m \u001b[0mexpr\u001b[0m\u001b[1;33m,\u001b[0m \u001b[0mexpand_mul\u001b[0m\u001b[1;33m(\u001b[0m\u001b[0mexpand_multinomial\u001b[0m\u001b[1;33m(\u001b[0m\u001b[0mexpr\u001b[0m\u001b[1;33m)\u001b[0m\u001b[1;33m)\u001b[0m\u001b[1;33m\u001b[0m\u001b[1;33m\u001b[0m\u001b[0m\n\u001b[0m\u001b[0;32m   2777\u001b[0m         \u001b[1;32mif\u001b[0m \u001b[1;32mnot\u001b[0m \u001b[0mrecursive\u001b[0m\u001b[1;33m:\u001b[0m\u001b[1;33m\u001b[0m\u001b[1;33m\u001b[0m\u001b[0m\n",
      "\u001b[1;32m~\\miniconda3\\lib\\site-packages\\sympy\\core\\function.py\u001b[0m in \u001b[0;36mexpand_mul\u001b[1;34m(expr, deep)\u001b[0m\n\u001b[0;32m   2798\u001b[0m     \"\"\"\n\u001b[1;32m-> 2799\u001b[1;33m     return sympify(expr).expand(deep=deep, mul=True, power_exp=False,\n\u001b[0m\u001b[0;32m   2800\u001b[0m     power_base=False, basic=False, multinomial=False, log=False)\n",
      "\u001b[1;32m~\\miniconda3\\lib\\site-packages\\sympy\\core\\expr.py\u001b[0m in \u001b[0;36mexpand\u001b[1;34m(self, deep, modulus, power_base, power_exp, mul, log, multinomial, basic, **hints)\u001b[0m\n\u001b[0;32m   3482\u001b[0m                 \u001b[0mhint\u001b[0m \u001b[1;33m=\u001b[0m \u001b[1;34m'_eval_expand_'\u001b[0m \u001b[1;33m+\u001b[0m \u001b[0mhint\u001b[0m\u001b[1;33m\u001b[0m\u001b[1;33m\u001b[0m\u001b[0m\n\u001b[1;32m-> 3483\u001b[1;33m                 \u001b[0mexpr\u001b[0m\u001b[1;33m,\u001b[0m \u001b[0mhit\u001b[0m \u001b[1;33m=\u001b[0m \u001b[0mExpr\u001b[0m\u001b[1;33m.\u001b[0m\u001b[0m_expand_hint\u001b[0m\u001b[1;33m(\u001b[0m\u001b[0mexpr\u001b[0m\u001b[1;33m,\u001b[0m \u001b[0mhint\u001b[0m\u001b[1;33m,\u001b[0m \u001b[0mdeep\u001b[0m\u001b[1;33m=\u001b[0m\u001b[0mdeep\u001b[0m\u001b[1;33m,\u001b[0m \u001b[1;33m**\u001b[0m\u001b[0mhints\u001b[0m\u001b[1;33m)\u001b[0m\u001b[1;33m\u001b[0m\u001b[1;33m\u001b[0m\u001b[0m\n\u001b[0m\u001b[0;32m   3484\u001b[0m \u001b[1;33m\u001b[0m\u001b[0m\n",
      "\u001b[1;32m~\\miniconda3\\lib\\site-packages\\sympy\\core\\expr.py\u001b[0m in \u001b[0;36m_expand_hint\u001b[1;34m(expr, hint, deep, **hints)\u001b[0m\n\u001b[0;32m   3415\u001b[0m             \u001b[1;32mfor\u001b[0m \u001b[0marg\u001b[0m \u001b[1;32min\u001b[0m \u001b[0mexpr\u001b[0m\u001b[1;33m.\u001b[0m\u001b[0margs\u001b[0m\u001b[1;33m:\u001b[0m\u001b[1;33m\u001b[0m\u001b[1;33m\u001b[0m\u001b[0m\n\u001b[1;32m-> 3416\u001b[1;33m                 \u001b[0marg\u001b[0m\u001b[1;33m,\u001b[0m \u001b[0marghit\u001b[0m \u001b[1;33m=\u001b[0m \u001b[0mExpr\u001b[0m\u001b[1;33m.\u001b[0m\u001b[0m_expand_hint\u001b[0m\u001b[1;33m(\u001b[0m\u001b[0marg\u001b[0m\u001b[1;33m,\u001b[0m \u001b[0mhint\u001b[0m\u001b[1;33m,\u001b[0m \u001b[1;33m**\u001b[0m\u001b[0mhints\u001b[0m\u001b[1;33m)\u001b[0m\u001b[1;33m\u001b[0m\u001b[1;33m\u001b[0m\u001b[0m\n\u001b[0m\u001b[0;32m   3417\u001b[0m                 \u001b[0mhit\u001b[0m \u001b[1;33m|=\u001b[0m \u001b[0marghit\u001b[0m\u001b[1;33m\u001b[0m\u001b[1;33m\u001b[0m\u001b[0m\n",
      "\u001b[1;32m~\\miniconda3\\lib\\site-packages\\sympy\\core\\expr.py\u001b[0m in \u001b[0;36m_expand_hint\u001b[1;34m(expr, hint, deep, **hints)\u001b[0m\n\u001b[0;32m   3423\u001b[0m         \u001b[1;32mif\u001b[0m \u001b[0mhasattr\u001b[0m\u001b[1;33m(\u001b[0m\u001b[0mexpr\u001b[0m\u001b[1;33m,\u001b[0m \u001b[0mhint\u001b[0m\u001b[1;33m)\u001b[0m\u001b[1;33m:\u001b[0m\u001b[1;33m\u001b[0m\u001b[1;33m\u001b[0m\u001b[0m\n\u001b[1;32m-> 3424\u001b[1;33m             \u001b[0mnewexpr\u001b[0m \u001b[1;33m=\u001b[0m \u001b[0mgetattr\u001b[0m\u001b[1;33m(\u001b[0m\u001b[0mexpr\u001b[0m\u001b[1;33m,\u001b[0m \u001b[0mhint\u001b[0m\u001b[1;33m)\u001b[0m\u001b[1;33m(\u001b[0m\u001b[1;33m**\u001b[0m\u001b[0mhints\u001b[0m\u001b[1;33m)\u001b[0m\u001b[1;33m\u001b[0m\u001b[1;33m\u001b[0m\u001b[0m\n\u001b[0m\u001b[0;32m   3425\u001b[0m             \u001b[1;32mif\u001b[0m \u001b[0mnewexpr\u001b[0m \u001b[1;33m!=\u001b[0m \u001b[0mexpr\u001b[0m\u001b[1;33m:\u001b[0m\u001b[1;33m\u001b[0m\u001b[1;33m\u001b[0m\u001b[0m\n",
      "\u001b[1;32m~\\miniconda3\\lib\\site-packages\\sympy\\core\\mul.py\u001b[0m in \u001b[0;36m_eval_expand_mul\u001b[1;34m(self, **hints)\u001b[0m\n\u001b[0;32m    884\u001b[0m                 \u001b[0mdeep\u001b[0m \u001b[1;33m=\u001b[0m \u001b[0mhints\u001b[0m\u001b[1;33m.\u001b[0m\u001b[0mget\u001b[0m\u001b[1;33m(\u001b[0m\u001b[1;34m\"deep\"\u001b[0m\u001b[1;33m,\u001b[0m \u001b[1;32mFalse\u001b[0m\u001b[1;33m)\u001b[0m\u001b[1;33m\u001b[0m\u001b[1;33m\u001b[0m\u001b[0m\n\u001b[1;32m--> 885\u001b[1;33m                 \u001b[0mterms\u001b[0m \u001b[1;33m=\u001b[0m \u001b[0mself\u001b[0m\u001b[1;33m.\u001b[0m\u001b[0mfunc\u001b[0m\u001b[1;33m.\u001b[0m\u001b[0m_expandsums\u001b[0m\u001b[1;33m(\u001b[0m\u001b[0msums\u001b[0m\u001b[1;33m)\u001b[0m\u001b[1;33m\u001b[0m\u001b[1;33m\u001b[0m\u001b[0m\n\u001b[0m\u001b[0;32m    886\u001b[0m                 \u001b[0margs\u001b[0m \u001b[1;33m=\u001b[0m \u001b[1;33m[\u001b[0m\u001b[1;33m]\u001b[0m\u001b[1;33m\u001b[0m\u001b[1;33m\u001b[0m\u001b[0m\n",
      "\u001b[1;32m~\\miniconda3\\lib\\site-packages\\sympy\\core\\mul.py\u001b[0m in \u001b[0;36m_expandsums\u001b[1;34m(sums)\u001b[0m\n\u001b[0;32m    847\u001b[0m         \u001b[0mleft\u001b[0m \u001b[1;33m=\u001b[0m \u001b[0mMul\u001b[0m\u001b[1;33m.\u001b[0m\u001b[0m_expandsums\u001b[0m\u001b[1;33m(\u001b[0m\u001b[0msums\u001b[0m\u001b[1;33m[\u001b[0m\u001b[1;33m:\u001b[0m\u001b[0mL\u001b[0m\u001b[1;33m//\u001b[0m\u001b[1;36m2\u001b[0m\u001b[1;33m]\u001b[0m\u001b[1;33m)\u001b[0m\u001b[1;33m\u001b[0m\u001b[1;33m\u001b[0m\u001b[0m\n\u001b[1;32m--> 848\u001b[1;33m         \u001b[0mright\u001b[0m \u001b[1;33m=\u001b[0m \u001b[0mMul\u001b[0m\u001b[1;33m.\u001b[0m\u001b[0m_expandsums\u001b[0m\u001b[1;33m(\u001b[0m\u001b[0msums\u001b[0m\u001b[1;33m[\u001b[0m\u001b[0mL\u001b[0m\u001b[1;33m//\u001b[0m\u001b[1;36m2\u001b[0m\u001b[1;33m:\u001b[0m\u001b[1;33m]\u001b[0m\u001b[1;33m)\u001b[0m\u001b[1;33m\u001b[0m\u001b[1;33m\u001b[0m\u001b[0m\n\u001b[0m\u001b[0;32m    849\u001b[0m \u001b[1;33m\u001b[0m\u001b[0m\n",
      "\u001b[1;32m~\\miniconda3\\lib\\site-packages\\sympy\\core\\mul.py\u001b[0m in \u001b[0;36m_expandsums\u001b[1;34m(sums)\u001b[0m\n\u001b[0;32m    849\u001b[0m \u001b[1;33m\u001b[0m\u001b[0m\n\u001b[1;32m--> 850\u001b[1;33m         \u001b[0mterms\u001b[0m \u001b[1;33m=\u001b[0m \u001b[1;33m[\u001b[0m\u001b[0mMul\u001b[0m\u001b[1;33m(\u001b[0m\u001b[0ma\u001b[0m\u001b[1;33m,\u001b[0m \u001b[0mb\u001b[0m\u001b[1;33m)\u001b[0m \u001b[1;32mfor\u001b[0m \u001b[0ma\u001b[0m \u001b[1;32min\u001b[0m \u001b[0mleft\u001b[0m \u001b[1;32mfor\u001b[0m \u001b[0mb\u001b[0m \u001b[1;32min\u001b[0m \u001b[0mright\u001b[0m\u001b[1;33m]\u001b[0m\u001b[1;33m\u001b[0m\u001b[1;33m\u001b[0m\u001b[0m\n\u001b[0m\u001b[0;32m    851\u001b[0m         \u001b[0madded\u001b[0m \u001b[1;33m=\u001b[0m \u001b[0mAdd\u001b[0m\u001b[1;33m(\u001b[0m\u001b[1;33m*\u001b[0m\u001b[0mterms\u001b[0m\u001b[1;33m)\u001b[0m\u001b[1;33m\u001b[0m\u001b[1;33m\u001b[0m\u001b[0m\n",
      "\u001b[1;32m~\\miniconda3\\lib\\site-packages\\sympy\\core\\mul.py\u001b[0m in \u001b[0;36m<listcomp>\u001b[1;34m(.0)\u001b[0m\n\u001b[0;32m    849\u001b[0m \u001b[1;33m\u001b[0m\u001b[0m\n\u001b[1;32m--> 850\u001b[1;33m         \u001b[0mterms\u001b[0m \u001b[1;33m=\u001b[0m \u001b[1;33m[\u001b[0m\u001b[0mMul\u001b[0m\u001b[1;33m(\u001b[0m\u001b[0ma\u001b[0m\u001b[1;33m,\u001b[0m \u001b[0mb\u001b[0m\u001b[1;33m)\u001b[0m \u001b[1;32mfor\u001b[0m \u001b[0ma\u001b[0m \u001b[1;32min\u001b[0m \u001b[0mleft\u001b[0m \u001b[1;32mfor\u001b[0m \u001b[0mb\u001b[0m \u001b[1;32min\u001b[0m \u001b[0mright\u001b[0m\u001b[1;33m]\u001b[0m\u001b[1;33m\u001b[0m\u001b[1;33m\u001b[0m\u001b[0m\n\u001b[0m\u001b[0;32m    851\u001b[0m         \u001b[0madded\u001b[0m \u001b[1;33m=\u001b[0m \u001b[0mAdd\u001b[0m\u001b[1;33m(\u001b[0m\u001b[1;33m*\u001b[0m\u001b[0mterms\u001b[0m\u001b[1;33m)\u001b[0m\u001b[1;33m\u001b[0m\u001b[1;33m\u001b[0m\u001b[0m\n",
      "\u001b[1;32m~\\miniconda3\\lib\\site-packages\\sympy\\core\\operations.py\u001b[0m in \u001b[0;36m__new__\u001b[1;34m(cls, *args, **options)\u001b[0m\n\u001b[0;32m     29\u001b[0m     \u001b[1;32mdef\u001b[0m \u001b[0m__new__\u001b[0m\u001b[1;33m(\u001b[0m\u001b[0mcls\u001b[0m\u001b[1;33m,\u001b[0m \u001b[1;33m*\u001b[0m\u001b[0margs\u001b[0m\u001b[1;33m,\u001b[0m \u001b[1;33m**\u001b[0m\u001b[0moptions\u001b[0m\u001b[1;33m)\u001b[0m\u001b[1;33m:\u001b[0m\u001b[1;33m\u001b[0m\u001b[1;33m\u001b[0m\u001b[0m\n\u001b[1;32m---> 30\u001b[1;33m         \u001b[1;32mfrom\u001b[0m \u001b[0msympy\u001b[0m \u001b[1;32mimport\u001b[0m \u001b[0mOrder\u001b[0m\u001b[1;33m\u001b[0m\u001b[1;33m\u001b[0m\u001b[0m\n\u001b[0m\u001b[0;32m     31\u001b[0m         \u001b[0margs\u001b[0m \u001b[1;33m=\u001b[0m \u001b[0mlist\u001b[0m\u001b[1;33m(\u001b[0m\u001b[0mmap\u001b[0m\u001b[1;33m(\u001b[0m\u001b[0m_sympify\u001b[0m\u001b[1;33m,\u001b[0m \u001b[0margs\u001b[0m\u001b[1;33m)\u001b[0m\u001b[1;33m)\u001b[0m\u001b[1;33m\u001b[0m\u001b[1;33m\u001b[0m\u001b[0m\n",
      "\u001b[1;32m~\\miniconda3\\lib\\importlib\\_bootstrap.py\u001b[0m in \u001b[0;36m_handle_fromlist\u001b[1;34m(module, fromlist, import_, recursive)\u001b[0m\n",
      "\u001b[1;31mKeyboardInterrupt\u001b[0m: ",
      "\nDuring handling of the above exception, another exception occurred:\n",
      "\u001b[1;31mKeyboardInterrupt\u001b[0m                         Traceback (most recent call last)",
      "\u001b[1;31mKeyboardInterrupt\u001b[0m: "
     ]
    }
   ],
   "source": [
    "solts = sym.solve((V1_0r, V2_0r, V3_0r, V2_1r), (tO_1, tO_2, tO_3, R))"
   ]
  },
  {
   "cell_type": "code",
   "execution_count": 205,
   "metadata": {},
   "outputs": [
    {
     "data": {
      "text/plain": [
       "(0.176470588235294*(561.0*tO_3**2 - 9.21954445729289*sqrt(tO_3**3*(85.0*tO_3 + 912.0)))/(tO_3*(119.0*tO_3 - 30.0)),\n",
       " 0.7*(-5.0*tO_3*(17.0*tO_3 + 24.0) + 9.21954445729289*sqrt(tO_3**3*(85.0*tO_3 + 912.0)))/(119.0*tO_3 - 30.0),\n",
       " tO_3,\n",
       " 0.0043859649122807*(408.0*tO_3**2 - 9.21954445729289*sqrt(tO_3**3*(85.0*tO_3 + 912.0)))/tO_3**2)"
      ]
     },
     "execution_count": 205,
     "metadata": {},
     "output_type": "execute_result"
    }
   ],
   "source": [
    "solts[0]"
   ]
  },
  {
   "cell_type": "markdown",
   "metadata": {},
   "source": [
    "### Imperfect transparency nu = 4"
   ]
  },
  {
   "cell_type": "code",
   "execution_count": 251,
   "metadata": {},
   "outputs": [],
   "source": [
    "# 1 2 3\n",
    "# - t1 -\n",
    "# - 4 -\n",
    "# - t2 -\n",
    "# 5 6 7\n",
    "G, R = sym.symbols('G, R')\n",
    "t1_1, t1_2, t1_3, t1_4 = sym.symbols('t1_1, t1_2, t1_3, t1_4')\n",
    "t2_1, t2_2, t2_3, t2_4 = sym.symbols('t2_1, t2_2, t2_3, t2_4')\n",
    "tO_1, tO_2, tO_3, tO_4 = sym.symbols('tO_1, tO_2, tO_3, tO_4')\n",
    "nu = 4\n",
    "V1, V2, V3, V4, V5, V6, V7 = sym.symbols('V1, V2, V3, V4, V5, V6, V7')\n",
    "I1, I2, I3, I4, I5, I6, I7 = sym.symbols('I1, I2, I3, I4, I5, I6, I7')\n",
    "T = sym.Matrix([[nu*G, -nu*G, 0, 0, 0, 0, 0], \n",
    "                [0, nu*G, -nu*G, 0, 0, 0, 0],\n",
    "                [-G*(nu-t1_1-t1_2-t1_3-t1_4)-G*(t1_1*(1-tO_1)+t1_2*(1-tO_2)+t1_3*(1-tO_3)+t1_4*(1-tO_4)), 0, nu*G, -G*(t1_1*tO_1+t1_2*tO_2+t1_3*tO_3+t1_4*tO_4), 0, 0, 0],\n",
    "                [-G*(t1_1*tO_1+t1_2*tO_2+t1_3*tO_3+t1_4*tO_4), 0, 0, G*(t1_1*tO_1+t1_2*tO_2+t1_3*tO_3+t1_4*tO_4)+G*(t2_1*tO_1 + t2_2*tO_2+t2_3*tO_3+t2_4*tO_4), 0, 0, -G*(t2_1*tO_1 + t2_2*tO_2+t2_3*tO_3+t2_4*tO_4)],\n",
    "                [0, 0, 0, -G*(t2_1*tO_1 + t2_2*tO_2+t2_3*tO_3+t2_4*tO_4), nu*G, 0, -G*(nu-t2_1-t2_2-t2_3-t2_4)-G*(t2_1*(1-tO_1)+t2_2*(1-tO_2)+t2_3*(1-tO_3)+t2_4*(1-tO_4))],\n",
    "                [0, 0, 0, 0, -nu*G, nu*G, 0],\n",
    "                [0, 0, 0, 0, 0, -nu*G, nu*G]])\n",
    "T=T\n",
    "V = sym.Matrix([[V1], \n",
    "               [V2],\n",
    "               [V3],\n",
    "               [V4],\n",
    "               [V5],\n",
    "               [V6],\n",
    "               [V7]])\n",
    "\n",
    "# Other known constraints: each floating contact has 0 current, grounded contacts i current is -V_i/R, and current in = current out (I3 = -sum of ground currents)\n",
    "I = sym.Matrix([[I1],\n",
    "              [-V2/R],\n",
    "              [0],\n",
    "              [0],\n",
    "              [0],\n",
    "              [-V6/R],\n",
    "              [0]])\n",
    "solution = sym.solve(T*V-I, V)\n",
    "#solution"
   ]
  },
  {
   "cell_type": "code",
   "execution_count": 225,
   "metadata": {},
   "outputs": [
    {
     "data": {
      "text/latex": [
       "$\\displaystyle \\left[\\begin{matrix}4 G & - 4 G & 0 & 0 & 0 & 0 & 0\\\\0 & 4 G & - 4 G & 0 & 0 & 0 & 0\\\\- G \\left(t_{1 1} \\left(1 - tO_{1}\\right) + t_{1 2} \\left(1 - tO_{2}\\right) + t_{1 3} \\left(1 - tO_{3}\\right) + t_{1 4} \\left(1 - tO_{4}\\right)\\right) - G \\left(- t_{1 1} - t_{1 2} - t_{1 3} - t_{1 4} + 4\\right) & 0 & 4 G & - G \\left(t_{1 1} tO_{1} + t_{1 2} tO_{2} + t_{1 3} tO_{3} + t_{1 4} tO_{4}\\right) & 0 & 0 & 0\\\\- G \\left(t_{1 1} tO_{1} + t_{1 2} tO_{2} + t_{1 3} tO_{3} + t_{1 4} tO_{4}\\right) & 0 & 0 & G \\left(t_{1 1} tO_{1} + t_{1 2} tO_{2} + t_{1 3} tO_{3} + t_{1 4} tO_{4}\\right) + G \\left(t_{2 1} tO_{1} + t_{2 2} tO_{2} + t_{2 3} tO_{3} + t_{2 4} tO_{4}\\right) & 0 & 0 & - G \\left(t_{2 1} tO_{1} + t_{2 2} tO_{2} + t_{2 3} tO_{3} + t_{2 4} tO_{4}\\right)\\\\0 & 0 & 0 & - G \\left(t_{2 1} tO_{1} + t_{2 2} tO_{2} + t_{2 3} tO_{3} + t_{2 4} tO_{4}\\right) & 4 G & 0 & - G \\left(t_{2 1} \\left(1 - tO_{1}\\right) + t_{2 2} \\left(1 - tO_{2}\\right) + t_{2 3} \\left(1 - tO_{3}\\right) + t_{2 4} \\left(1 - tO_{4}\\right)\\right) - G \\left(- t_{2 1} - t_{2 2} - t_{2 3} - t_{2 4} + 4\\right)\\\\0 & 0 & 0 & 0 & - 4 G & 4 G & 0\\\\0 & 0 & 0 & 0 & 0 & - 4 G & 4 G\\end{matrix}\\right]$"
      ],
      "text/plain": [
       "Matrix([\n",
       "[                                                                                                            4*G, -4*G,    0,                                                                                                     0,    0,    0,                                                                                                               0],\n",
       "[                                                                                                              0,  4*G, -4*G,                                                                                                     0,    0,    0,                                                                                                               0],\n",
       "[-G*(t1_1*(1 - tO_1) + t1_2*(1 - tO_2) + t1_3*(1 - tO_3) + t1_4*(1 - tO_4)) - G*(-t1_1 - t1_2 - t1_3 - t1_4 + 4),    0,  4*G,                                                    -G*(t1_1*tO_1 + t1_2*tO_2 + t1_3*tO_3 + t1_4*tO_4),    0,    0,                                                                                                               0],\n",
       "[                                                             -G*(t1_1*tO_1 + t1_2*tO_2 + t1_3*tO_3 + t1_4*tO_4),    0,    0, G*(t1_1*tO_1 + t1_2*tO_2 + t1_3*tO_3 + t1_4*tO_4) + G*(t2_1*tO_1 + t2_2*tO_2 + t2_3*tO_3 + t2_4*tO_4),    0,    0,                                                              -G*(t2_1*tO_1 + t2_2*tO_2 + t2_3*tO_3 + t2_4*tO_4)],\n",
       "[                                                                                                              0,    0,    0,                                                    -G*(t2_1*tO_1 + t2_2*tO_2 + t2_3*tO_3 + t2_4*tO_4),  4*G,    0, -G*(t2_1*(1 - tO_1) + t2_2*(1 - tO_2) + t2_3*(1 - tO_3) + t2_4*(1 - tO_4)) - G*(-t2_1 - t2_2 - t2_3 - t2_4 + 4)],\n",
       "[                                                                                                              0,    0,    0,                                                                                                     0, -4*G,  4*G,                                                                                                               0],\n",
       "[                                                                                                              0,    0,    0,                                                                                                     0,    0, -4*G,                                                                                                             4*G]])"
      ]
     },
     "execution_count": 225,
     "metadata": {},
     "output_type": "execute_result"
    }
   ],
   "source": [
    "T"
   ]
  },
  {
   "cell_type": "code",
   "execution_count": 233,
   "metadata": {},
   "outputs": [
    {
     "data": {
      "text/latex": [
       "$\\displaystyle \\frac{4 G R tO_{1} - tO_{1} + 2}{2 \\left(2 G R tO_{1} + 1\\right)}$"
      ],
      "text/plain": [
       "(4*G*R*tO_1 - tO_1 + 2)/(2*(2*G*R*tO_1 + 1))"
      ]
     },
     "execution_count": 233,
     "metadata": {},
     "output_type": "execute_result"
    }
   ],
   "source": [
    " sym.simplify(sym.simplify(solution[V3]/solution[V1]).subs([(tO_2, tO_1), (tO_3, tO_1), (tO_4, tO_1),(t1_1, 1), (t1_2, 1), (t1_3, 1), (t1_4, 1), (t2_1, 1), (t2_2, 1), (t2_3, 1), (t2_4,1)]))"
   ]
  },
  {
   "cell_type": "code",
   "execution_count": 212,
   "metadata": {},
   "outputs": [
    {
     "data": {
      "text/latex": [
       "$\\displaystyle -0.882352941176471 + \\frac{R tO_{1}^{2} \\left(tO_{1} + tO_{2} + tO_{3} + tO_{4} - 4\\right) + R \\left(tO_{1} - 4\\right) \\left(tO_{1} + tO_{2} + tO_{3} + tO_{4}\\right)^{2} - R \\left(tO_{1} - 4\\right) \\left(2 tO_{1} + tO_{2} + tO_{3} + tO_{4}\\right) \\left(tO_{1} + tO_{2} + tO_{3} + tO_{4} - 4\\right) + tO_{1}^{2} \\left(4 R + 1\\right) - \\left(4 R + 1\\right) \\left(tO_{1} - 4\\right) \\left(2 tO_{1} + tO_{2} + tO_{3} + tO_{4}\\right)}{4 \\left(- R \\left(tO_{1} + tO_{2} + tO_{3} + tO_{4}\\right)^{2} + R \\left(2 tO_{1} + tO_{2} + tO_{3} + tO_{4}\\right) \\left(tO_{1} + tO_{2} + tO_{3} + tO_{4} - 4\\right) + \\left(4 R + 1\\right) \\left(2 tO_{1} + tO_{2} + tO_{3} + tO_{4}\\right)\\right)}$"
      ],
      "text/plain": [
       "-0.882352941176471 + (R*tO_1**2*(tO_1 + tO_2 + tO_3 + tO_4 - 4) + R*(tO_1 - 4)*(tO_1 + tO_2 + tO_3 + tO_4)**2 - R*(tO_1 - 4)*(2*tO_1 + tO_2 + tO_3 + tO_4)*(tO_1 + tO_2 + tO_3 + tO_4 - 4) + tO_1**2*(4*R + 1) - (4*R + 1)*(tO_1 - 4)*(2*tO_1 + tO_2 + tO_3 + tO_4))/(4*(-R*(tO_1 + tO_2 + tO_3 + tO_4)**2 + R*(2*tO_1 + tO_2 + tO_3 + tO_4)*(tO_1 + tO_2 + tO_3 + tO_4 - 4) + (4*R + 1)*(2*tO_1 + tO_2 + tO_3 + tO_4)))"
      ]
     },
     "execution_count": 212,
     "metadata": {},
     "output_type": "execute_result"
    }
   ],
   "source": [
    "V1_0r = sym.simplify(solution[V3]/solution[V1]).subs([(t1_1, 1), (t1_2,0), (t1_3, 0), (t1_4, 0), (t2_1, 1), (t2_2, 1), (t2_3, 1), (t2_4, 1), (G,1)])\n",
    "V1_0r = V1_0r - 4.5/5.1\n",
    "V1_0r"
   ]
  },
  {
   "cell_type": "code",
   "execution_count": 213,
   "metadata": {},
   "outputs": [
    {
     "data": {
      "text/latex": [
       "$\\displaystyle -0.813725490196079 + \\frac{R \\left(tO_{1} + tO_{2}\\right)^{2} \\left(tO_{1} + tO_{2} + tO_{3} + tO_{4} - 4\\right) + R \\left(tO_{1} + tO_{2} - 4\\right) \\left(tO_{1} + tO_{2} + tO_{3} + tO_{4}\\right)^{2} - R \\left(tO_{1} + tO_{2} - 4\\right) \\left(2 tO_{1} + 2 tO_{2} + tO_{3} + tO_{4}\\right) \\left(tO_{1} + tO_{2} + tO_{3} + tO_{4} - 4\\right) + \\left(4 R + 1\\right) \\left(tO_{1} + tO_{2}\\right)^{2} - \\left(4 R + 1\\right) \\left(tO_{1} + tO_{2} - 4\\right) \\left(2 tO_{1} + 2 tO_{2} + tO_{3} + tO_{4}\\right)}{4 \\left(- R \\left(tO_{1} + tO_{2} + tO_{3} + tO_{4}\\right)^{2} + R \\left(2 tO_{1} + 2 tO_{2} + tO_{3} + tO_{4}\\right) \\left(tO_{1} + tO_{2} + tO_{3} + tO_{4} - 4\\right) + \\left(4 R + 1\\right) \\left(2 tO_{1} + 2 tO_{2} + tO_{3} + tO_{4}\\right)\\right)}$"
      ],
      "text/plain": [
       "-0.813725490196079 + (R*(tO_1 + tO_2)**2*(tO_1 + tO_2 + tO_3 + tO_4 - 4) + R*(tO_1 + tO_2 - 4)*(tO_1 + tO_2 + tO_3 + tO_4)**2 - R*(tO_1 + tO_2 - 4)*(2*tO_1 + 2*tO_2 + tO_3 + tO_4)*(tO_1 + tO_2 + tO_3 + tO_4 - 4) + (4*R + 1)*(tO_1 + tO_2)**2 - (4*R + 1)*(tO_1 + tO_2 - 4)*(2*tO_1 + 2*tO_2 + tO_3 + tO_4))/(4*(-R*(tO_1 + tO_2 + tO_3 + tO_4)**2 + R*(2*tO_1 + 2*tO_2 + tO_3 + tO_4)*(tO_1 + tO_2 + tO_3 + tO_4 - 4) + (4*R + 1)*(2*tO_1 + 2*tO_2 + tO_3 + tO_4)))"
      ]
     },
     "execution_count": 213,
     "metadata": {},
     "output_type": "execute_result"
    }
   ],
   "source": [
    "V2_0r = sym.simplify(solution[V3]/solution[V1]).subs([(t1_1, 1), (t1_2,1), (t1_3, 0), (t1_4, 0), (t2_1, 1), (t2_2, 1), (t2_3, 1), (t2_4, 1), (G,1)])\n",
    "V2_0r = V2_0r - 4.15/5.1\n",
    "V2_0r"
   ]
  },
  {
   "cell_type": "code",
   "execution_count": 214,
   "metadata": {},
   "outputs": [
    {
     "data": {
      "text/latex": [
       "$\\displaystyle -0.764705882352941 + \\frac{R \\left(tO_{1} + tO_{2} + tO_{3}\\right)^{2} \\left(tO_{1} + tO_{2} + tO_{3} + tO_{4} - 4\\right) + R \\left(tO_{1} + tO_{2} + tO_{3} - 4\\right) \\left(tO_{1} + tO_{2} + tO_{3} + tO_{4}\\right)^{2} - R \\left(tO_{1} + tO_{2} + tO_{3} - 4\\right) \\left(2 tO_{1} + 2 tO_{2} + 2 tO_{3} + tO_{4}\\right) \\left(tO_{1} + tO_{2} + tO_{3} + tO_{4} - 4\\right) + \\left(4 R + 1\\right) \\left(tO_{1} + tO_{2} + tO_{3}\\right)^{2} - \\left(4 R + 1\\right) \\left(tO_{1} + tO_{2} + tO_{3} - 4\\right) \\left(2 tO_{1} + 2 tO_{2} + 2 tO_{3} + tO_{4}\\right)}{4 \\left(- R \\left(tO_{1} + tO_{2} + tO_{3} + tO_{4}\\right)^{2} + R \\left(2 tO_{1} + 2 tO_{2} + 2 tO_{3} + tO_{4}\\right) \\left(tO_{1} + tO_{2} + tO_{3} + tO_{4} - 4\\right) + \\left(4 R + 1\\right) \\left(2 tO_{1} + 2 tO_{2} + 2 tO_{3} + tO_{4}\\right)\\right)}$"
      ],
      "text/plain": [
       "-0.764705882352941 + (R*(tO_1 + tO_2 + tO_3)**2*(tO_1 + tO_2 + tO_3 + tO_4 - 4) + R*(tO_1 + tO_2 + tO_3 - 4)*(tO_1 + tO_2 + tO_3 + tO_4)**2 - R*(tO_1 + tO_2 + tO_3 - 4)*(2*tO_1 + 2*tO_2 + 2*tO_3 + tO_4)*(tO_1 + tO_2 + tO_3 + tO_4 - 4) + (4*R + 1)*(tO_1 + tO_2 + tO_3)**2 - (4*R + 1)*(tO_1 + tO_2 + tO_3 - 4)*(2*tO_1 + 2*tO_2 + 2*tO_3 + tO_4))/(4*(-R*(tO_1 + tO_2 + tO_3 + tO_4)**2 + R*(2*tO_1 + 2*tO_2 + 2*tO_3 + tO_4)*(tO_1 + tO_2 + tO_3 + tO_4 - 4) + (4*R + 1)*(2*tO_1 + 2*tO_2 + 2*tO_3 + tO_4)))"
      ]
     },
     "execution_count": 214,
     "metadata": {},
     "output_type": "execute_result"
    }
   ],
   "source": [
    "V3_0r = sym.simplify(solution[V3]/solution[V1]).subs([(t1_1, 1), (t1_2,1), (t1_3, 1), (t1_4, 0), (t2_1, 1), (t2_2, 1), (t2_3, 1), (t2_4, 1), (G,1)])\n",
    "V3_0r = V3_0r - 3.9/5.1\n",
    "V3_0r"
   ]
  },
  {
   "cell_type": "code",
   "execution_count": 215,
   "metadata": {},
   "outputs": [
    {
     "data": {
      "text/latex": [
       "$\\displaystyle -0.737254901960784 + \\frac{2 R \\left(tO_{1} + tO_{2} + tO_{3} + tO_{4}\\right)^{2} \\left(tO_{1} + tO_{2} + tO_{3} + tO_{4} - 4\\right) - R \\left(2 tO_{1} + 2 tO_{2} + 2 tO_{3} + 2 tO_{4}\\right) \\left(tO_{1} + tO_{2} + tO_{3} + tO_{4} - 4\\right)^{2} + \\left(4 R + 1\\right) \\left(tO_{1} + tO_{2} + tO_{3} + tO_{4}\\right)^{2} - \\left(4 R + 1\\right) \\left(2 tO_{1} + 2 tO_{2} + 2 tO_{3} + 2 tO_{4}\\right) \\left(tO_{1} + tO_{2} + tO_{3} + tO_{4} - 4\\right)}{4 \\left(- R \\left(tO_{1} + tO_{2} + tO_{3} + tO_{4}\\right)^{2} + R \\left(2 tO_{1} + 2 tO_{2} + 2 tO_{3} + 2 tO_{4}\\right) \\left(tO_{1} + tO_{2} + tO_{3} + tO_{4} - 4\\right) + \\left(4 R + 1\\right) \\left(2 tO_{1} + 2 tO_{2} + 2 tO_{3} + 2 tO_{4}\\right)\\right)}$"
      ],
      "text/plain": [
       "-0.737254901960784 + (2*R*(tO_1 + tO_2 + tO_3 + tO_4)**2*(tO_1 + tO_2 + tO_3 + tO_4 - 4) - R*(2*tO_1 + 2*tO_2 + 2*tO_3 + 2*tO_4)*(tO_1 + tO_2 + tO_3 + tO_4 - 4)**2 + (4*R + 1)*(tO_1 + tO_2 + tO_3 + tO_4)**2 - (4*R + 1)*(2*tO_1 + 2*tO_2 + 2*tO_3 + 2*tO_4)*(tO_1 + tO_2 + tO_3 + tO_4 - 4))/(4*(-R*(tO_1 + tO_2 + tO_3 + tO_4)**2 + R*(2*tO_1 + 2*tO_2 + 2*tO_3 + 2*tO_4)*(tO_1 + tO_2 + tO_3 + tO_4 - 4) + (4*R + 1)*(2*tO_1 + 2*tO_2 + 2*tO_3 + 2*tO_4)))"
      ]
     },
     "execution_count": 215,
     "metadata": {},
     "output_type": "execute_result"
    }
   ],
   "source": [
    "V4_0r = sym.simplify(solution[V3]/solution[V1]).subs([(t1_1, 1), (t1_2,1), (t1_3, 1), (t1_4, 1), (t2_1, 1), (t2_2, 1), (t2_3, 1), (t2_4, 1), (G,1)])\n",
    "V4_0r = V4_0r - 3.76/5.1\n",
    "V4_0r"
   ]
  },
  {
   "cell_type": "code",
   "execution_count": 216,
   "metadata": {},
   "outputs": [],
   "source": [
    "solts = sym.solve((V1_0r, V2_0r, V3_0r, V4_0r), (tO_1, tO_2, tO_3, tO_4))"
   ]
  },
  {
   "cell_type": "code",
   "execution_count": 217,
   "metadata": {},
   "outputs": [
    {
     "data": {
      "text/plain": [
       "(-131372549019608.0/(65686274509804.0*R - 216666666666667.0),\n",
       " 6.41809640522877e+28/((65686274509804.0*R - 216666666666667.0)*(312009803921569.0*R - 540625000000001.0)),\n",
       " 4.58435457516341e+28/((131372549019608.0*R - 154166666666667.0)*(312009803921569.0*R - 540625000000001.0)),\n",
       " 9.57924836601319e+26/((16421568627451.0*R - 15625000000000.0)*(131372549019608.0*R - 154166666666667.0)))"
      ]
     },
     "execution_count": 217,
     "metadata": {},
     "output_type": "execute_result"
    }
   ],
   "source": [
    "solts[0]"
   ]
  },
  {
   "cell_type": "code",
   "execution_count": 253,
   "metadata": {},
   "outputs": [
    {
     "data": {
      "text/latex": [
       "$\\displaystyle - \\frac{2 tO_{1} \\left(- R^{2} \\left(tO_{1} + tO_{2} + tO_{3} + tO_{4}\\right) \\left(tO_{1} + tO_{2} + tO_{3} + tO_{4} - 4\\right) + R^{2} \\left(tO_{1} + tO_{2} + tO_{3} + tO_{4} - 4\\right)^{2} - R \\left(4 R + 1\\right) \\left(tO_{1} + tO_{2} + tO_{3} + tO_{4}\\right) + 2 R \\left(4 R + 1\\right) \\left(tO_{1} + tO_{2} + tO_{3} + tO_{4} - 4\\right) + \\left(4 R + 1\\right)^{2}\\right)}{R^{2} tO_{1}^{2} \\left(tO_{1} + tO_{2} + tO_{3} + tO_{4} - 4\\right) + R^{2} \\left(tO_{1} - 4\\right) \\left(tO_{1} + tO_{2} + tO_{3} + tO_{4}\\right)^{2} - R^{2} \\left(tO_{1} - 4\\right) \\left(2 tO_{1} + tO_{2} + tO_{3} + tO_{4}\\right) \\left(tO_{1} + tO_{2} + tO_{3} + tO_{4} - 4\\right) + R tO_{1}^{2} \\left(4 R + 1\\right) - R \\left(4 R + 1\\right) \\left(tO_{1} - 4\\right) \\left(2 tO_{1} + tO_{2} + tO_{3} + tO_{4}\\right) + R \\left(4 R + 1\\right) \\left(tO_{1} + tO_{2} + tO_{3} + tO_{4}\\right)^{2} - R \\left(4 R + 1\\right) \\left(2 tO_{1} + tO_{2} + tO_{3} + tO_{4}\\right) \\left(tO_{1} + tO_{2} + tO_{3} + tO_{4} - 4\\right) - \\left(4 R + 1\\right)^{2} \\left(2 tO_{1} + tO_{2} + tO_{3} + tO_{4}\\right)} - 0.441176470588235$"
      ],
      "text/plain": [
       "-2*tO_1*(-R**2*(tO_1 + tO_2 + tO_3 + tO_4)*(tO_1 + tO_2 + tO_3 + tO_4 - 4) + R**2*(tO_1 + tO_2 + tO_3 + tO_4 - 4)**2 - R*(4*R + 1)*(tO_1 + tO_2 + tO_3 + tO_4) + 2*R*(4*R + 1)*(tO_1 + tO_2 + tO_3 + tO_4 - 4) + (4*R + 1)**2)/(R**2*tO_1**2*(tO_1 + tO_2 + tO_3 + tO_4 - 4) + R**2*(tO_1 - 4)*(tO_1 + tO_2 + tO_3 + tO_4)**2 - R**2*(tO_1 - 4)*(2*tO_1 + tO_2 + tO_3 + tO_4)*(tO_1 + tO_2 + tO_3 + tO_4 - 4) + R*tO_1**2*(4*R + 1) - R*(4*R + 1)*(tO_1 - 4)*(2*tO_1 + tO_2 + tO_3 + tO_4) + R*(4*R + 1)*(tO_1 + tO_2 + tO_3 + tO_4)**2 - R*(4*R + 1)*(2*tO_1 + tO_2 + tO_3 + tO_4)*(tO_1 + tO_2 + tO_3 + tO_4 - 4) - (4*R + 1)**2*(2*tO_1 + tO_2 + tO_3 + tO_4)) - 0.441176470588235"
      ]
     },
     "execution_count": 253,
     "metadata": {},
     "output_type": "execute_result"
    }
   ],
   "source": [
    "V1_0t = sym.simplify(solution[V5]/solution[V5].subs([(t1_1, 1), (t1_2,1), (t1_3, 1), (t1_4, 1), (t2_1, 1), (t2_2, 1), (t2_3, 1), (t2_4, 1), (G,1)])).subs([(t1_1, 1), (t1_2,0), (t1_3, 0), (t1_4, 0), (t2_1, 1), (t2_2, 1), (t2_3, 1), (t2_4, 1), (G,1)])\n",
    "V1_0t = V1_0t - 6/13.6\n",
    "V1_0t"
   ]
  },
  {
   "cell_type": "code",
   "execution_count": 257,
   "metadata": {},
   "outputs": [
    {
     "data": {
      "text/latex": [
       "$\\displaystyle - \\frac{2 \\left(tO_{1} + tO_{2}\\right) \\left(- R^{2} \\left(tO_{1} + tO_{2} + tO_{3} + tO_{4}\\right) \\left(tO_{1} + tO_{2} + tO_{3} + tO_{4} - 4\\right) + R^{2} \\left(tO_{1} + tO_{2} + tO_{3} + tO_{4} - 4\\right)^{2} - R \\left(4 R + 1\\right) \\left(tO_{1} + tO_{2} + tO_{3} + tO_{4}\\right) + 2 R \\left(4 R + 1\\right) \\left(tO_{1} + tO_{2} + tO_{3} + tO_{4} - 4\\right) + \\left(4 R + 1\\right)^{2}\\right)}{R^{2} \\left(tO_{1} + tO_{2}\\right)^{2} \\left(tO_{1} + tO_{2} + tO_{3} + tO_{4} - 4\\right) + R^{2} \\left(tO_{1} + tO_{2} - 4\\right) \\left(tO_{1} + tO_{2} + tO_{3} + tO_{4}\\right)^{2} - R^{2} \\left(tO_{1} + tO_{2} - 4\\right) \\left(2 tO_{1} + 2 tO_{2} + tO_{3} + tO_{4}\\right) \\left(tO_{1} + tO_{2} + tO_{3} + tO_{4} - 4\\right) + R \\left(4 R + 1\\right) \\left(tO_{1} + tO_{2}\\right)^{2} - R \\left(4 R + 1\\right) \\left(tO_{1} + tO_{2} - 4\\right) \\left(2 tO_{1} + 2 tO_{2} + tO_{3} + tO_{4}\\right) + R \\left(4 R + 1\\right) \\left(tO_{1} + tO_{2} + tO_{3} + tO_{4}\\right)^{2} - R \\left(4 R + 1\\right) \\left(2 tO_{1} + 2 tO_{2} + tO_{3} + tO_{4}\\right) \\left(tO_{1} + tO_{2} + tO_{3} + tO_{4} - 4\\right) - \\left(4 R + 1\\right)^{2} \\left(2 tO_{1} + 2 tO_{2} + tO_{3} + tO_{4}\\right)} - 0.661764705882353$"
      ],
      "text/plain": [
       "-2*(tO_1 + tO_2)*(-R**2*(tO_1 + tO_2 + tO_3 + tO_4)*(tO_1 + tO_2 + tO_3 + tO_4 - 4) + R**2*(tO_1 + tO_2 + tO_3 + tO_4 - 4)**2 - R*(4*R + 1)*(tO_1 + tO_2 + tO_3 + tO_4) + 2*R*(4*R + 1)*(tO_1 + tO_2 + tO_3 + tO_4 - 4) + (4*R + 1)**2)/(R**2*(tO_1 + tO_2)**2*(tO_1 + tO_2 + tO_3 + tO_4 - 4) + R**2*(tO_1 + tO_2 - 4)*(tO_1 + tO_2 + tO_3 + tO_4)**2 - R**2*(tO_1 + tO_2 - 4)*(2*tO_1 + 2*tO_2 + tO_3 + tO_4)*(tO_1 + tO_2 + tO_3 + tO_4 - 4) + R*(4*R + 1)*(tO_1 + tO_2)**2 - R*(4*R + 1)*(tO_1 + tO_2 - 4)*(2*tO_1 + 2*tO_2 + tO_3 + tO_4) + R*(4*R + 1)*(tO_1 + tO_2 + tO_3 + tO_4)**2 - R*(4*R + 1)*(2*tO_1 + 2*tO_2 + tO_3 + tO_4)*(tO_1 + tO_2 + tO_3 + tO_4 - 4) - (4*R + 1)**2*(2*tO_1 + 2*tO_2 + tO_3 + tO_4)) - 0.661764705882353"
      ]
     },
     "execution_count": 257,
     "metadata": {},
     "output_type": "execute_result"
    }
   ],
   "source": [
    "V2_0t = sym.simplify(solution[V5]/solution[V5].subs([(t1_1, 1), (t1_2,1), (t1_3, 1), (t1_4, 1), (t2_1, 1), (t2_2, 1), (t2_3, 1), (t2_4, 1), (G,1)])).subs([(t1_1, 1), (t1_2,1), (t1_3, 0), (t1_4, 0), (t2_1, 1), (t2_2, 1), (t2_3, 1), (t2_4, 1), (G,1)])\n",
    "V2_0t = V2_0t - 9/13.6\n",
    "V2_0t"
   ]
  },
  {
   "cell_type": "code",
   "execution_count": 258,
   "metadata": {},
   "outputs": [
    {
     "data": {
      "text/latex": [
       "$\\displaystyle - \\frac{2 \\left(tO_{1} + tO_{2} + tO_{3}\\right) \\left(- R^{2} \\left(tO_{1} + tO_{2} + tO_{3} + tO_{4}\\right) \\left(tO_{1} + tO_{2} + tO_{3} + tO_{4} - 4\\right) + R^{2} \\left(tO_{1} + tO_{2} + tO_{3} + tO_{4} - 4\\right)^{2} - R \\left(4 R + 1\\right) \\left(tO_{1} + tO_{2} + tO_{3} + tO_{4}\\right) + 2 R \\left(4 R + 1\\right) \\left(tO_{1} + tO_{2} + tO_{3} + tO_{4} - 4\\right) + \\left(4 R + 1\\right)^{2}\\right)}{R^{2} \\left(tO_{1} + tO_{2} + tO_{3}\\right)^{2} \\left(tO_{1} + tO_{2} + tO_{3} + tO_{4} - 4\\right) + R^{2} \\left(tO_{1} + tO_{2} + tO_{3} - 4\\right) \\left(tO_{1} + tO_{2} + tO_{3} + tO_{4}\\right)^{2} - R^{2} \\left(tO_{1} + tO_{2} + tO_{3} - 4\\right) \\left(2 tO_{1} + 2 tO_{2} + 2 tO_{3} + tO_{4}\\right) \\left(tO_{1} + tO_{2} + tO_{3} + tO_{4} - 4\\right) + R \\left(4 R + 1\\right) \\left(tO_{1} + tO_{2} + tO_{3}\\right)^{2} - R \\left(4 R + 1\\right) \\left(tO_{1} + tO_{2} + tO_{3} - 4\\right) \\left(2 tO_{1} + 2 tO_{2} + 2 tO_{3} + tO_{4}\\right) + R \\left(4 R + 1\\right) \\left(tO_{1} + tO_{2} + tO_{3} + tO_{4}\\right)^{2} - R \\left(4 R + 1\\right) \\left(2 tO_{1} + 2 tO_{2} + 2 tO_{3} + tO_{4}\\right) \\left(tO_{1} + tO_{2} + tO_{3} + tO_{4} - 4\\right) - \\left(4 R + 1\\right)^{2} \\left(2 tO_{1} + 2 tO_{2} + 2 tO_{3} + tO_{4}\\right)} - 0.867647058823529$"
      ],
      "text/plain": [
       "-2*(tO_1 + tO_2 + tO_3)*(-R**2*(tO_1 + tO_2 + tO_3 + tO_4)*(tO_1 + tO_2 + tO_3 + tO_4 - 4) + R**2*(tO_1 + tO_2 + tO_3 + tO_4 - 4)**2 - R*(4*R + 1)*(tO_1 + tO_2 + tO_3 + tO_4) + 2*R*(4*R + 1)*(tO_1 + tO_2 + tO_3 + tO_4 - 4) + (4*R + 1)**2)/(R**2*(tO_1 + tO_2 + tO_3)**2*(tO_1 + tO_2 + tO_3 + tO_4 - 4) + R**2*(tO_1 + tO_2 + tO_3 - 4)*(tO_1 + tO_2 + tO_3 + tO_4)**2 - R**2*(tO_1 + tO_2 + tO_3 - 4)*(2*tO_1 + 2*tO_2 + 2*tO_3 + tO_4)*(tO_1 + tO_2 + tO_3 + tO_4 - 4) + R*(4*R + 1)*(tO_1 + tO_2 + tO_3)**2 - R*(4*R + 1)*(tO_1 + tO_2 + tO_3 - 4)*(2*tO_1 + 2*tO_2 + 2*tO_3 + tO_4) + R*(4*R + 1)*(tO_1 + tO_2 + tO_3 + tO_4)**2 - R*(4*R + 1)*(2*tO_1 + 2*tO_2 + 2*tO_3 + tO_4)*(tO_1 + tO_2 + tO_3 + tO_4 - 4) - (4*R + 1)**2*(2*tO_1 + 2*tO_2 + 2*tO_3 + tO_4)) - 0.867647058823529"
      ]
     },
     "execution_count": 258,
     "metadata": {},
     "output_type": "execute_result"
    }
   ],
   "source": [
    "V3_0t = sym.simplify(solution[V5]/solution[V5].subs([(t1_1, 1), (t1_2,1), (t1_3, 1), (t1_4, 1), (t2_1, 1), (t2_2, 1), (t2_3, 1), (t2_4, 1), (G,1)])).subs([(t1_1, 1), (t1_2,1), (t1_3, 1), (t1_4, 0), (t2_1, 1), (t2_2, 1), (t2_3, 1), (t2_4, 1), (G,1)])\n",
    "V3_0t = V3_0t - 11.8/13.6\n",
    "V3_0t"
   ]
  },
  {
   "cell_type": "code",
   "execution_count": 259,
   "metadata": {},
   "outputs": [
    {
     "data": {
      "text/latex": [
       "$\\displaystyle -1.5 + \\frac{\\left(tO_{1} + tO_{2}\\right) \\left(R^{2} tO_{1}^{2} \\left(tO_{1} + tO_{2} + tO_{3} + tO_{4} - 4\\right) + R^{2} \\left(tO_{1} - 4\\right) \\left(tO_{1} + tO_{2} + tO_{3} + tO_{4}\\right)^{2} - R^{2} \\left(tO_{1} - 4\\right) \\left(2 tO_{1} + tO_{2} + tO_{3} + tO_{4}\\right) \\left(tO_{1} + tO_{2} + tO_{3} + tO_{4} - 4\\right) + R tO_{1}^{2} \\left(4 R + 1\\right) - R \\left(4 R + 1\\right) \\left(tO_{1} - 4\\right) \\left(2 tO_{1} + tO_{2} + tO_{3} + tO_{4}\\right) + R \\left(4 R + 1\\right) \\left(tO_{1} + tO_{2} + tO_{3} + tO_{4}\\right)^{2} - R \\left(4 R + 1\\right) \\left(2 tO_{1} + tO_{2} + tO_{3} + tO_{4}\\right) \\left(tO_{1} + tO_{2} + tO_{3} + tO_{4} - 4\\right) - \\left(4 R + 1\\right)^{2} \\left(2 tO_{1} + tO_{2} + tO_{3} + tO_{4}\\right)\\right)}{tO_{1} \\left(R^{2} \\left(tO_{1} + tO_{2}\\right)^{2} \\left(tO_{1} + tO_{2} + tO_{3} + tO_{4} - 4\\right) + R^{2} \\left(tO_{1} + tO_{2} - 4\\right) \\left(tO_{1} + tO_{2} + tO_{3} + tO_{4}\\right)^{2} - R^{2} \\left(tO_{1} + tO_{2} - 4\\right) \\left(2 tO_{1} + 2 tO_{2} + tO_{3} + tO_{4}\\right) \\left(tO_{1} + tO_{2} + tO_{3} + tO_{4} - 4\\right) + R \\left(4 R + 1\\right) \\left(tO_{1} + tO_{2}\\right)^{2} - R \\left(4 R + 1\\right) \\left(tO_{1} + tO_{2} - 4\\right) \\left(2 tO_{1} + 2 tO_{2} + tO_{3} + tO_{4}\\right) + R \\left(4 R + 1\\right) \\left(tO_{1} + tO_{2} + tO_{3} + tO_{4}\\right)^{2} - R \\left(4 R + 1\\right) \\left(2 tO_{1} + 2 tO_{2} + tO_{3} + tO_{4}\\right) \\left(tO_{1} + tO_{2} + tO_{3} + tO_{4} - 4\\right) - \\left(4 R + 1\\right)^{2} \\left(2 tO_{1} + 2 tO_{2} + tO_{3} + tO_{4}\\right)\\right)}$"
      ],
      "text/plain": [
       "-1.5 + (tO_1 + tO_2)*(R**2*tO_1**2*(tO_1 + tO_2 + tO_3 + tO_4 - 4) + R**2*(tO_1 - 4)*(tO_1 + tO_2 + tO_3 + tO_4)**2 - R**2*(tO_1 - 4)*(2*tO_1 + tO_2 + tO_3 + tO_4)*(tO_1 + tO_2 + tO_3 + tO_4 - 4) + R*tO_1**2*(4*R + 1) - R*(4*R + 1)*(tO_1 - 4)*(2*tO_1 + tO_2 + tO_3 + tO_4) + R*(4*R + 1)*(tO_1 + tO_2 + tO_3 + tO_4)**2 - R*(4*R + 1)*(2*tO_1 + tO_2 + tO_3 + tO_4)*(tO_1 + tO_2 + tO_3 + tO_4 - 4) - (4*R + 1)**2*(2*tO_1 + tO_2 + tO_3 + tO_4))/(tO_1*(R**2*(tO_1 + tO_2)**2*(tO_1 + tO_2 + tO_3 + tO_4 - 4) + R**2*(tO_1 + tO_2 - 4)*(tO_1 + tO_2 + tO_3 + tO_4)**2 - R**2*(tO_1 + tO_2 - 4)*(2*tO_1 + 2*tO_2 + tO_3 + tO_4)*(tO_1 + tO_2 + tO_3 + tO_4 - 4) + R*(4*R + 1)*(tO_1 + tO_2)**2 - R*(4*R + 1)*(tO_1 + tO_2 - 4)*(2*tO_1 + 2*tO_2 + tO_3 + tO_4) + R*(4*R + 1)*(tO_1 + tO_2 + tO_3 + tO_4)**2 - R*(4*R + 1)*(2*tO_1 + 2*tO_2 + tO_3 + tO_4)*(tO_1 + tO_2 + tO_3 + tO_4 - 4) - (4*R + 1)**2*(2*tO_1 + 2*tO_2 + tO_3 + tO_4)))"
      ]
     },
     "execution_count": 259,
     "metadata": {},
     "output_type": "execute_result"
    }
   ],
   "source": [
    "V2_1t = sym.simplify(solution[V5]/solution[V5].subs([(t1_1, 1), (t1_2,0), (t1_3, 0), (t1_4, 0), (t2_1, 1), (t2_2, 1), (t2_3, 1), (t2_4, 1), (G,1)])).subs([(t1_1, 1), (t1_2,1), (t1_3, 0), (t1_4, 0), (t2_1, 1), (t2_2, 1), (t2_3, 1), (t2_4, 1), (G,1)])\n",
    "V2_1t = V2_1t - 9/6\n",
    "V2_1t"
   ]
  },
  {
   "cell_type": "code",
   "execution_count": null,
   "metadata": {},
   "outputs": [],
   "source": [
    "solts = sym.solve((V1_0t, V2_0t, V3_0t, V2_1t), (tO_1, tO_2, tO_3, tO_4))\n",
    "solts[0]"
   ]
  },
  {
   "cell_type": "code",
   "execution_count": 252,
   "metadata": {},
   "outputs": [
    {
     "data": {
      "text/latex": [
       "$\\displaystyle - \\frac{2 \\left(4 G R + 1\\right)^{2} \\left(t_{1 1} tO_{1} + t_{1 2} tO_{2} + t_{1 3} tO_{3} + t_{1 4} tO_{4}\\right) \\left(t_{2 1} tO_{1} + t_{2 2} tO_{2} + t_{2 3} tO_{3} + t_{2 4} tO_{4}\\right) \\left(- R^{2} \\left(tO_{1} + tO_{2} + tO_{3} + tO_{4}\\right) \\left(tO_{1} + tO_{2} + tO_{3} + tO_{4} - 4\\right) + R^{2} \\left(tO_{1} + tO_{2} + tO_{3} + tO_{4} - 4\\right)^{2} - R \\left(4 R + 1\\right) \\left(tO_{1} + tO_{2} + tO_{3} + tO_{4}\\right) + 2 R \\left(4 R + 1\\right) \\left(tO_{1} + tO_{2} + tO_{3} + tO_{4} - 4\\right) + \\left(4 R + 1\\right)^{2}\\right)}{G \\left(4 R + 1\\right)^{2} \\left(tO_{1} + tO_{2} + tO_{3} + tO_{4}\\right) \\left(G^{2} R^{2} \\left(t_{1 1} tO_{1} + t_{1 2} tO_{2} + t_{1 3} tO_{3} + t_{1 4} tO_{4}\\right)^{2} \\left(t_{2 1} tO_{1} + t_{2 2} tO_{2} + t_{2 3} tO_{3} + t_{2 4} tO_{4} - 4\\right) + G^{2} R^{2} \\left(t_{2 1} tO_{1} + t_{2 2} tO_{2} + t_{2 3} tO_{3} + t_{2 4} tO_{4}\\right)^{2} \\left(t_{1 1} tO_{1} + t_{1 2} tO_{2} + t_{1 3} tO_{3} + t_{1 4} tO_{4} - 4\\right) - G^{2} R^{2} \\left(t_{1 1} tO_{1} + t_{1 2} tO_{2} + t_{1 3} tO_{3} + t_{1 4} tO_{4} - 4\\right) \\left(t_{2 1} tO_{1} + t_{2 2} tO_{2} + t_{2 3} tO_{3} + t_{2 4} tO_{4} - 4\\right) \\left(t_{1 1} tO_{1} + t_{1 2} tO_{2} + t_{1 3} tO_{3} + t_{1 4} tO_{4} + t_{2 1} tO_{1} + t_{2 2} tO_{2} + t_{2 3} tO_{3} + t_{2 4} tO_{4}\\right) + G R \\left(4 G R + 1\\right) \\left(t_{1 1} tO_{1} + t_{1 2} tO_{2} + t_{1 3} tO_{3} + t_{1 4} tO_{4}\\right)^{2} + G R \\left(4 G R + 1\\right) \\left(t_{2 1} tO_{1} + t_{2 2} tO_{2} + t_{2 3} tO_{3} + t_{2 4} tO_{4}\\right)^{2} - G R \\left(4 G R + 1\\right) \\left(t_{1 1} tO_{1} + t_{1 2} tO_{2} + t_{1 3} tO_{3} + t_{1 4} tO_{4} - 4\\right) \\left(t_{1 1} tO_{1} + t_{1 2} tO_{2} + t_{1 3} tO_{3} + t_{1 4} tO_{4} + t_{2 1} tO_{1} + t_{2 2} tO_{2} + t_{2 3} tO_{3} + t_{2 4} tO_{4}\\right) - G R \\left(4 G R + 1\\right) \\left(t_{2 1} tO_{1} + t_{2 2} tO_{2} + t_{2 3} tO_{3} + t_{2 4} tO_{4} - 4\\right) \\left(t_{1 1} tO_{1} + t_{1 2} tO_{2} + t_{1 3} tO_{3} + t_{1 4} tO_{4} + t_{2 1} tO_{1} + t_{2 2} tO_{2} + t_{2 3} tO_{3} + t_{2 4} tO_{4}\\right) - \\left(4 G R + 1\\right)^{2} \\left(t_{1 1} tO_{1} + t_{1 2} tO_{2} + t_{1 3} tO_{3} + t_{1 4} tO_{4} + t_{2 1} tO_{1} + t_{2 2} tO_{2} + t_{2 3} tO_{3} + t_{2 4} tO_{4}\\right)\\right)}$"
      ],
      "text/plain": [
       "-2*(4*G*R + 1)**2*(t1_1*tO_1 + t1_2*tO_2 + t1_3*tO_3 + t1_4*tO_4)*(t2_1*tO_1 + t2_2*tO_2 + t2_3*tO_3 + t2_4*tO_4)*(-R**2*(tO_1 + tO_2 + tO_3 + tO_4)*(tO_1 + tO_2 + tO_3 + tO_4 - 4) + R**2*(tO_1 + tO_2 + tO_3 + tO_4 - 4)**2 - R*(4*R + 1)*(tO_1 + tO_2 + tO_3 + tO_4) + 2*R*(4*R + 1)*(tO_1 + tO_2 + tO_3 + tO_4 - 4) + (4*R + 1)**2)/(G*(4*R + 1)**2*(tO_1 + tO_2 + tO_3 + tO_4)*(G**2*R**2*(t1_1*tO_1 + t1_2*tO_2 + t1_3*tO_3 + t1_4*tO_4)**2*(t2_1*tO_1 + t2_2*tO_2 + t2_3*tO_3 + t2_4*tO_4 - 4) + G**2*R**2*(t2_1*tO_1 + t2_2*tO_2 + t2_3*tO_3 + t2_4*tO_4)**2*(t1_1*tO_1 + t1_2*tO_2 + t1_3*tO_3 + t1_4*tO_4 - 4) - G**2*R**2*(t1_1*tO_1 + t1_2*tO_2 + t1_3*tO_3 + t1_4*tO_4 - 4)*(t2_1*tO_1 + t2_2*tO_2 + t2_3*tO_3 + t2_4*tO_4 - 4)*(t1_1*tO_1 + t1_2*tO_2 + t1_3*tO_3 + t1_4*tO_4 + t2_1*tO_1 + t2_2*tO_2 + t2_3*tO_3 + t2_4*tO_4) + G*R*(4*G*R + 1)*(t1_1*tO_1 + t1_2*tO_2 + t1_3*tO_3 + t1_4*tO_4)**2 + G*R*(4*G*R + 1)*(t2_1*tO_1 + t2_2*tO_2 + t2_3*tO_3 + t2_4*tO_4)**2 - G*R*(4*G*R + 1)*(t1_1*tO_1 + t1_2*tO_2 + t1_3*tO_3 + t1_4*tO_4 - 4)*(t1_1*tO_1 + t1_2*tO_2 + t1_3*tO_3 + t1_4*tO_4 + t2_1*tO_1 + t2_2*tO_2 + t2_3*tO_3 + t2_4*tO_4) - G*R*(4*G*R + 1)*(t2_1*tO_1 + t2_2*tO_2 + t2_3*tO_3 + t2_4*tO_4 - 4)*(t1_1*tO_1 + t1_2*tO_2 + t1_3*tO_3 + t1_4*tO_4 + t2_1*tO_1 + t2_2*tO_2 + t2_3*tO_3 + t2_4*tO_4) - (4*G*R + 1)**2*(t1_1*tO_1 + t1_2*tO_2 + t1_3*tO_3 + t1_4*tO_4 + t2_1*tO_1 + t2_2*tO_2 + t2_3*tO_3 + t2_4*tO_4)))"
      ]
     },
     "execution_count": 252,
     "metadata": {},
     "output_type": "execute_result"
    }
   ],
   "source": [
    "sym.simplify((solution[V5]/solution[V5].subs([(t1_1, 1), (t1_2,1), (t1_3, 1), (t1_4, 1), (t2_1, 1), (t2_2, 1), (t2_3, 1), (t2_4, 1), (G,1)])))"
   ]
  },
  {
   "cell_type": "code",
   "execution_count": 236,
   "metadata": {},
   "outputs": [
    {
     "data": {
      "text/latex": [
       "$\\displaystyle - \\frac{I_{1} \\left(4 R + 1\\right)^{2} \\left(tO_{1} + tO_{2} + tO_{3} + tO_{4}\\right)^{2}}{16 \\left(2 R^{2} \\left(tO_{1} + tO_{2} + tO_{3} + tO_{4}\\right)^{2} \\left(tO_{1} + tO_{2} + tO_{3} + tO_{4} - 4\\right) - R^{2} \\left(2 tO_{1} + 2 tO_{2} + 2 tO_{3} + 2 tO_{4}\\right) \\left(tO_{1} + tO_{2} + tO_{3} + tO_{4} - 4\\right)^{2} + 2 R \\left(4 R + 1\\right) \\left(tO_{1} + tO_{2} + tO_{3} + tO_{4}\\right)^{2} - 2 R \\left(4 R + 1\\right) \\left(2 tO_{1} + 2 tO_{2} + 2 tO_{3} + 2 tO_{4}\\right) \\left(tO_{1} + tO_{2} + tO_{3} + tO_{4} - 4\\right) - \\left(4 R + 1\\right)^{2} \\left(2 tO_{1} + 2 tO_{2} + 2 tO_{3} + 2 tO_{4}\\right)\\right)}$"
      ],
      "text/plain": [
       "-I1*(4*R + 1)**2*(tO_1 + tO_2 + tO_3 + tO_4)**2/(16*(2*R**2*(tO_1 + tO_2 + tO_3 + tO_4)**2*(tO_1 + tO_2 + tO_3 + tO_4 - 4) - R**2*(2*tO_1 + 2*tO_2 + 2*tO_3 + 2*tO_4)*(tO_1 + tO_2 + tO_3 + tO_4 - 4)**2 + 2*R*(4*R + 1)*(tO_1 + tO_2 + tO_3 + tO_4)**2 - 2*R*(4*R + 1)*(2*tO_1 + 2*tO_2 + 2*tO_3 + 2*tO_4)*(tO_1 + tO_2 + tO_3 + tO_4 - 4) - (4*R + 1)**2*(2*tO_1 + 2*tO_2 + 2*tO_3 + 2*tO_4)))"
      ]
     },
     "execution_count": 236,
     "metadata": {},
     "output_type": "execute_result"
    }
   ],
   "source": [
    "solution[V5].subs([(t1_1, 1), (t1_2,1), (t1_3, 1), (t1_4, 1), (t2_1, 1), (t2_2, 1), (t2_3, 1), (t2_4, 1), (G,1)])"
   ]
  },
  {
   "cell_type": "markdown",
   "metadata": {},
   "source": [
    "### Two sets of 3 contacts, middle ohmics the same. "
   ]
  },
  {
   "cell_type": "code",
   "execution_count": 28,
   "metadata": {},
   "outputs": [
    {
     "data": {
      "text/plain": [
       "{V1: (G*I1*R*nu + I1)/(G*nu),\n",
       " V2: I1*R,\n",
       " V3: (G*I1*R*nu**2*t1 + G*I1*R*nu**2*t2 + I1*nu*t1 + I1*nu*t2 - I1*t1*t2)/(G*nu**2*t1 + G*nu**2*t2),\n",
       " V4: (G*I1*R*nu*t1 + G*I1*R*nu*t2 + I1*t1)/(G*nu*t1 + G*nu*t2),\n",
       " V5: (G*I1*R*nu**2*t1 + G*I1*R*nu**2*t2 + I1*t1*t2)/(G*nu**2*t1 + G*nu**2*t2),\n",
       " V7: I1*R}"
      ]
     },
     "execution_count": 28,
     "metadata": {},
     "output_type": "execute_result"
    }
   ],
   "source": [
    "# 1 2 3\n",
    "# - t1 -\n",
    "# - 4 -\n",
    "# - t2 -\n",
    "# 5 2 7\n",
    "G, R = sym.symbols('G, R')\n",
    "t1, t2 = sym.symbols('t1, t2')\n",
    "nu = 2\n",
    "nu = sym.symbols('nu')\n",
    "V1, V2, V3, V4, V5, V7 = sym.symbols('V1, V2, V3, V4, V5, V7')\n",
    "I1, I2, I3, I4, I5, I7 = sym.symbols('I1, I2, I3, I4, I5, I7')\n",
    "T = sym.Matrix([[nu*G, -nu*G, 0, 0, 0, 0], \n",
    "                [0, 2*nu*G, -nu*G, 0, -nu*G, 0],\n",
    "                [-G*(nu-t1), 0, nu*G, -G*t1, 0, 0],\n",
    "                [-G*t1, 0, 0, G*(t1+t2), 0, -G*t2],\n",
    "                [0, 0, 0, -G*t2, nu*G, -G*(nu-t2)],\n",
    "                [0, -nu*G, 0, 0, 0, nu*G]])\n",
    "T=T\n",
    "V = sym.Matrix([[V1], \n",
    "               [V2],\n",
    "               [V3],\n",
    "               [V4],\n",
    "               [V5],\n",
    "               [V7]])\n",
    "\n",
    "# Other known constraints: each floating contact has 0 current, grounded contacts i current is -V_i/R, and current in = current out (I3 = -sum of ground currents)\n",
    "I = sym.Matrix([[I1],\n",
    "              [-V2/R],\n",
    "              [0],\n",
    "              [0],\n",
    "              [0],\n",
    "              [0]])\n",
    "solution = sym.solve(T*V-I, V)\n",
    "solution"
   ]
  },
  {
   "cell_type": "code",
   "execution_count": 15,
   "metadata": {},
   "outputs": [
    {
     "data": {
      "text/latex": [
       "$\\displaystyle \\frac{\\nu t_{1} + \\nu t_{2} - t_{1} t_{2}}{\\nu \\left(t_{1} + t_{2}\\right)}$"
      ],
      "text/plain": [
       "(nu*t1 + nu*t2 - t1*t2)/(nu*(t1 + t2))"
      ]
     },
     "execution_count": 15,
     "metadata": {},
     "output_type": "execute_result"
    }
   ],
   "source": [
    "sym.simplify(sym.limit(solution[V3]/solution[V1], R, 0))"
   ]
  },
  {
   "cell_type": "code",
   "execution_count": 29,
   "metadata": {},
   "outputs": [
    {
     "data": {
      "text/latex": [
       "$\\displaystyle \\frac{\\nu t_{1} + \\nu t_{2} - t_{1} t_{2}}{G \\nu^{2} \\left(t_{1} + t_{2}\\right)}$"
      ],
      "text/plain": [
       "(nu*t1 + nu*t2 - t1*t2)/(G*nu**2*(t1 + t2))"
      ]
     },
     "execution_count": 29,
     "metadata": {},
     "output_type": "execute_result"
    }
   ],
   "source": [
    "sym.simplify(sym.limit(solution[V3]/I1, R, 0))"
   ]
  },
  {
   "cell_type": "code",
   "execution_count": 16,
   "metadata": {},
   "outputs": [
    {
     "data": {
      "text/latex": [
       "$\\displaystyle \\frac{I_{1}}{G \\nu}$"
      ],
      "text/plain": [
       "I1/(G*nu)"
      ]
     },
     "execution_count": 16,
     "metadata": {},
     "output_type": "execute_result"
    }
   ],
   "source": [
    "sym.simplify(sym.limit(solution[V1]-solution[V2], R, 0))"
   ]
  },
  {
   "cell_type": "code",
   "execution_count": 17,
   "metadata": {},
   "outputs": [
    {
     "data": {
      "text/latex": [
       "$\\displaystyle \\frac{I_{1}}{G \\nu}$"
      ],
      "text/plain": [
       "I1/(G*nu)"
      ]
     },
     "execution_count": 17,
     "metadata": {},
     "output_type": "execute_result"
    }
   ],
   "source": [
    "sym.simplify((solution[V1]-solution[V2]))"
   ]
  },
  {
   "cell_type": "code",
   "execution_count": 18,
   "metadata": {},
   "outputs": [
    {
     "data": {
      "text/latex": [
       "$\\displaystyle \\frac{G R \\nu^{2} t_{1} + G R \\nu^{2} t_{2} + \\nu t_{1} + \\nu t_{2} - t_{1} t_{2}}{\\nu \\left(t_{1} + t_{2}\\right)}$"
      ],
      "text/plain": [
       "(G*R*nu**2*t1 + G*R*nu**2*t2 + nu*t1 + nu*t2 - t1*t2)/(nu*(t1 + t2))"
      ]
     },
     "execution_count": 18,
     "metadata": {},
     "output_type": "execute_result"
    }
   ],
   "source": [
    "sym.simplify((solution[V3]/(solution[V1]-solution[V2])))"
   ]
  },
  {
   "cell_type": "code",
   "execution_count": 19,
   "metadata": {},
   "outputs": [
    {
     "data": {
      "text/latex": [
       "$\\displaystyle \\frac{\\nu t_{1} + \\nu t_{2} - t_{1} t_{2}}{\\nu \\left(t_{1} + t_{2}\\right)}$"
      ],
      "text/plain": [
       "(nu*t1 + nu*t2 - t1*t2)/(nu*(t1 + t2))"
      ]
     },
     "execution_count": 19,
     "metadata": {},
     "output_type": "execute_result"
    }
   ],
   "source": [
    "sym.simplify(((solution[V3]-solution[V2])/(solution[V1]-solution[V2])))"
   ]
  },
  {
   "cell_type": "code",
   "execution_count": 45,
   "metadata": {},
   "outputs": [
    {
     "name": "stdout",
     "output_type": "stream",
     "text": [
      "(-c*nu - 2*c + 2*nu + 2)/(4*(c - 1))\n",
      "(-c*nu - 3*c + 3*nu + 3)/(6*(c - 1))\n",
      "(-2*c*nu - 6*c + 3*nu + 6)/(12*(c - 1))\n"
     ]
    }
   ],
   "source": [
    "b, nu, c = sym.symbols('b, nu, c')\n",
    "V2_1 = sym.solve(2*(2*b+1+nu)/(4*b+2+nu)-c, b)[0]\n",
    "V3_1 = sym.solve(3*(2*b+1+nu)/(6*b+3+nu)-c, b)[0]\n",
    "V3_2 = sym.solve(3*(4*b+2+nu)/(2*(6*b+3+nu))-c, b)[0]\n",
    "\n",
    "print(V2_1)\n",
    "print(V3_1)\n",
    "print(V3_2)"
   ]
  },
  {
   "cell_type": "code",
   "execution_count": 46,
   "metadata": {},
   "outputs": [
    {
     "name": "stdout",
     "output_type": "stream",
     "text": [
      "0.500000000000000\n",
      "0.212643678160919\n",
      "-0.0952380952380953\n"
     ]
    }
   ],
   "source": [
    "print(V2_1.evalf(subs={c:9/6, nu:4}))\n",
    "print(V3_1.evalf(subs={c:11.8/6, nu:4}))\n",
    "print(V3_2.evalf(subs={c:11.8/9, nu:4}))"
   ]
  },
  {
   "cell_type": "code",
   "execution_count": 70,
   "metadata": {},
   "outputs": [
    {
     "name": "stdout",
     "output_type": "stream",
     "text": [
      "0.500000000000000\n",
      "0.500000000000000\n",
      "0.499999999999999\n"
     ]
    }
   ],
   "source": [
    "print(V2_1.evalf(subs={c:9/6, nu:4}))\n",
    "print(V3_1.evalf(subs={c:10.8/6, nu:4}))\n",
    "print(V3_2.evalf(subs={c:10.8/9, nu:4}))"
   ]
  },
  {
   "cell_type": "code",
   "execution_count": 49,
   "metadata": {},
   "outputs": [
    {
     "name": "stdout",
     "output_type": "stream",
     "text": [
      "0.250000000000000\n",
      "0.0344827586206895\n",
      "-0.196428571428571\n"
     ]
    }
   ],
   "source": [
    "print(V2_1.evalf(subs={c:9/6, nu:3}))\n",
    "print(V3_1.evalf(subs={c:11.8/6, nu:3}))\n",
    "print(V3_2.evalf(subs={c:11.8/9, nu:3}))\n"
   ]
  },
  {
   "cell_type": "code",
   "execution_count": 83,
   "metadata": {},
   "outputs": [
    {
     "name": "stdout",
     "output_type": "stream",
     "text": [
      "0.250000000000000\n",
      "0.250000000000000\n",
      "0.249999999999999\n"
     ]
    }
   ],
   "source": [
    "print(V2_1.evalf(subs={c:9/6, nu:3}))\n",
    "print(V3_1.evalf(subs={c:10.8/6, nu:3}))\n",
    "print(V3_2.evalf(subs={c:10.8/9, nu:3}))\n"
   ]
  },
  {
   "cell_type": "code",
   "execution_count": 76,
   "metadata": {},
   "outputs": [
    {
     "name": "stdout",
     "output_type": "stream",
     "text": [
      "0.250000000000000\n",
      "0.0344827586206895\n",
      "-0.196428571428571\n"
     ]
    }
   ],
   "source": [
    "nu_value = 3\n",
    "print(V2_1.evalf(subs={c:9/6, nu:nu_value}))\n",
    "print(V3_1.evalf(subs={c:11.8/6, nu:nu_value}))\n",
    "print(V3_2.evalf(subs={c:11.8/9, nu:nu_value}))\n"
   ]
  },
  {
   "cell_type": "code",
   "execution_count": null,
   "metadata": {},
   "outputs": [],
   "source": [
    "expr.evalf(subs={x: 3.14})"
   ]
  },
  {
   "cell_type": "code",
   "execution_count": 84,
   "metadata": {},
   "outputs": [
    {
     "name": "stdout",
     "output_type": "stream",
     "text": [
      "nu*(-c*nu - c + 2*nu)/(4*(c*nu - c - nu + 1))\n",
      "nu*(-c*nu - 2*c + 3*nu)/(6*(c*nu - c - nu + 1))\n",
      "nu*(-2*c*nu - 4*c + 3*nu + 3)/(12*(c*nu - c - nu + 1))\n"
     ]
    }
   ],
   "source": [
    "b, nu, c = sym.symbols('b, nu, c')\n",
    "V2_1 = sym.solve(2*(2*b*(nu-1)+nu+nu*(nu-1))/(4*b*(nu-1)+2*nu+nu*(nu-1))-c, b)[0]\n",
    "V3_1 = sym.solve(3*(2*b*(nu-1)+nu+nu*(nu-1))/(6*b*(nu-1)+3*nu+nu*(nu-1))-c, b)[0]\n",
    "V3_2 = sym.solve(3*(4*b*(nu-1)+2*nu+nu*(nu-1))/(2*(6*b*(nu-1)+3*nu+nu*(nu-1)))-c, b)[0]\n",
    "\n",
    "print(V2_1)\n",
    "print(V3_1)\n",
    "print(V3_2)"
   ]
  },
  {
   "cell_type": "code",
   "execution_count": 92,
   "metadata": {},
   "outputs": [
    {
     "name": "stdout",
     "output_type": "stream",
     "text": [
      "0.625000000000000\n",
      "0.625000000000000\n",
      "0.624999999999998\n"
     ]
    }
   ],
   "source": [
    "print(V2_1.evalf(subs={c:9/6, nu:5}))\n",
    "print(V3_1.evalf(subs={c:10.8/6, nu:5}))\n",
    "print(V3_2.evalf(subs={c:10.8/9, nu:5}))"
   ]
  },
  {
   "cell_type": "code",
   "execution_count": 94,
   "metadata": {},
   "outputs": [
    {
     "data": {
      "text/latex": [
       "$\\displaystyle \\frac{G^{2} R^{2} t_{1} t_{2} + G R \\nu t_{1} + G R \\nu t_{2} + \\nu t_{1} + \\nu t_{2} - t_{1} t_{2}}{G \\left(2 G R t_{1} t_{2} + \\nu t_{1} + \\nu t_{2}\\right)}$"
      ],
      "text/plain": [
       "(G**2*R**2*t1*t2 + G*R*nu*t1 + G*R*nu*t2 + nu*t1 + nu*t2 - t1*t2)/(G*(2*G*R*t1*t2 + nu*t1 + nu*t2))"
      ]
     },
     "execution_count": 94,
     "metadata": {},
     "output_type": "execute_result"
    }
   ],
   "source": [
    "sym.simplify(solution[V3]/(I1))"
   ]
  },
  {
   "cell_type": "code",
   "execution_count": 99,
   "metadata": {},
   "outputs": [
    {
     "name": "stdout",
     "output_type": "stream",
     "text": [
      "-(5*c*nu + 2*c - 4*nu - sqrt(9*c**2*nu**2 - 12*c**2*nu + 4*c**2 - 8*c*nu**2 + 12*c*nu - 8*c + 4) - 2)/(8*c - 8)\n",
      "-(7*c*nu + 3*c - 5*nu - sqrt(25*c**2*nu**2 - 30*c**2*nu + 9*c**2 - 22*c*nu**2 + 24*c*nu - 18*c + nu**2 + 6*nu + 9) - 3)/(12*c - 12)\n",
      "-(8*c*nu + 6*c - 7*nu - sqrt(16*c**2*nu**2 - 48*c**2*nu + 36*c**2 - 16*c*nu**2 + 60*c*nu - 72*c + nu**2 - 12*nu + 36) - 6)/(24*c - 24)\n"
     ]
    }
   ],
   "source": [
    "#(b**2 * t1 * nu + b*nu*t1 + b*nu**2 + nu*t1 + nu**2 - nu*t1)/(G*(2*b*t1*nu+nu*t1+nu**2))\n",
    "V2_1_ref = sym.solve((b**2 *nu* 2 + b*nu*2+b*nu**2+nu*2 +nu**2 -nu*2)*(2*b*nu+nu+nu**2)/((2*b*2*nu+nu*2+nu**2)*(b**2 *nu+b*nu+b*nu**2 +nu + nu**2-nu))-c, b)[0]\n",
    "V3_1_ref = sym.solve((b**2 *nu* 3 + b*nu*3+b*nu**2+nu*3 +nu**2 -nu*3)*(2*b*nu+nu+nu**2)/((2*b*3*nu+nu*3+nu**2)*(b**2 *nu+b*nu+b*nu**2 +nu + nu**2-nu))-c, b)[0]\n",
    "V3_2_ref = sym.solve((b**2 *nu* 3 + b*nu*3+b*nu**2+nu*3 +nu**2 -nu*3)*(2*b*nu*2+nu*2+nu**2)/((2*b*3*nu+nu*3+nu**2)*(b**2 *nu*2+b*nu*2+b*nu**2 +nu*2 + nu**2-nu*2))-c, b)[0]\n",
    "print(V2_1_ref)\n",
    "print(V3_1_ref)\n",
    "print(V3_2_ref)"
   ]
  },
  {
   "cell_type": "code",
   "execution_count": 101,
   "metadata": {},
   "outputs": [
    {
     "name": "stdout",
     "output_type": "stream",
     "text": [
      "-0.836849992762897\n",
      "-0.926028520021930\n",
      "-0.961492481920152\n"
     ]
    }
   ],
   "source": [
    "print(V2_1_ref.evalf(subs={c:4.15/4.5, nu:4}))\n",
    "print(V3_1_ref.evalf(subs={c:3.9/4.5, nu:4}))\n",
    "print(V3_2_ref.evalf(subs={c:3.9/4.15, nu:4}))"
   ]
  },
  {
   "cell_type": "code",
   "execution_count": 103,
   "metadata": {},
   "outputs": [],
   "source": [
    "A, b, nu, c = sym.symbols('A, b, nu, c')\n",
    "V0r = A*(b+1)\n",
    "V1r = A*(b**2 * 1 * nu + b * nu * 1 + b* nu * nu + nu*1 + nu*nu-nu*1)/(2*b*nu*1+nu*1+nu*nu)\n",
    "V2r = A*(b**2 * 2 * nu + b * nu * 2 + b* nu * nu + nu*2 + nu*nu-nu*2)/(2*b*nu*2+nu*2+nu*nu)"
   ]
  },
  {
   "cell_type": "code",
   "execution_count": 105,
   "metadata": {},
   "outputs": [
    {
     "data": {
      "text/plain": [
       "[(5.1e-6/(b + 1.0), b)]"
      ]
     },
     "execution_count": 105,
     "metadata": {},
     "output_type": "execute_result"
    }
   ],
   "source": [
    "sym.solve(V0r - 5.1e-6, (A,b))"
   ]
  },
  {
   "cell_type": "code",
   "execution_count": 118,
   "metadata": {},
   "outputs": [
    {
     "data": {
      "text/latex": [
       "$\\displaystyle \\frac{5.0 \\cdot 10^{-7} \\left(- 1000000.0 A \\nu - 1000000.0 A - 1414213.56237309 \\left(0.5 A^{2} \\nu^{2} - A^{2} \\nu + 0.5 A^{2} + 4.05 \\cdot 10^{-11}\\right)^{0.5} + 9.0\\right)}{A}$"
      ],
      "text/plain": [
       "5.0e-7*(-1000000.0*A*nu - 1000000.0*A - 1414213.56237309*(0.5*A**2*nu**2 - A**2*nu + 0.5*A**2 + 4.05e-11)**0.5 + 9.0)/A"
      ]
     },
     "execution_count": 118,
     "metadata": {},
     "output_type": "execute_result"
    }
   ],
   "source": [
    "sym.solve(V1r - 4.5e-6, b)[0].evalf(subs={nu:4})"
   ]
  },
  {
   "cell_type": "code",
   "execution_count": 133,
   "metadata": {},
   "outputs": [
    {
     "name": "stdout",
     "output_type": "stream",
     "text": [
      "1.10500000000000e-5\n",
      "-0.538461538461538\n"
     ]
    }
   ],
   "source": [
    "solts = sym.solve((V0r - 5.1e-6, V1r-4.5e-6), (A,b))\n",
    "for sol in solts[0]:\n",
    "    print(sol.evalf(subs={nu:4}))"
   ]
  },
  {
   "cell_type": "code",
   "execution_count": 126,
   "metadata": {},
   "outputs": [
    {
     "ename": "IndexError",
     "evalue": "list index out of range",
     "output_type": "error",
     "traceback": [
      "\u001b[1;31m---------------------------------------------------------------------------\u001b[0m",
      "\u001b[1;31mIndexError\u001b[0m                                Traceback (most recent call last)",
      "\u001b[1;32m<ipython-input-126-93c3543d8335>\u001b[0m in \u001b[0;36m<module>\u001b[1;34m\u001b[0m\n\u001b[1;32m----> 1\u001b[1;33m \u001b[0msolts\u001b[0m\u001b[1;33m[\u001b[0m\u001b[1;36m1\u001b[0m\u001b[1;33m]\u001b[0m\u001b[1;33m\u001b[0m\u001b[1;33m\u001b[0m\u001b[0m\n\u001b[0m",
      "\u001b[1;31mIndexError\u001b[0m: list index out of range"
     ]
    }
   ],
   "source": [
    "solts[1]"
   ]
  },
  {
   "cell_type": "code",
   "execution_count": null,
   "metadata": {},
   "outputs": [],
   "source": []
  }
 ],
 "metadata": {
  "kernelspec": {
   "display_name": "Python 3",
   "language": "python",
   "name": "python3"
  },
  "language_info": {
   "codemirror_mode": {
    "name": "ipython",
    "version": 3
   },
   "file_extension": ".py",
   "mimetype": "text/x-python",
   "name": "python",
   "nbconvert_exporter": "python",
   "pygments_lexer": "ipython3",
   "version": "3.6.12"
  }
 },
 "nbformat": 4,
 "nbformat_minor": 4
}
